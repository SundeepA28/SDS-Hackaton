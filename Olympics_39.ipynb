{
 "cells": [
  {
   "cell_type": "markdown",
   "id": "8176649c",
   "metadata": {},
   "source": [
    "# EXPLORATORY DATA ANALYSIS ON AN OLYMPIC DATASET.\n"
   ]
  },
  {
   "cell_type": "markdown",
   "id": "78ffbcec",
   "metadata": {},
   "source": [
    "### Initial Setup\n",
    "***Importing the necessary libraries here.  These are used for dataframe management, plotting and analysis***"
   ]
  },
  {
   "cell_type": "code",
   "execution_count": 486,
   "id": "c651e574",
   "metadata": {},
   "outputs": [],
   "source": [
    "import pandas as pd\n",
    "import numpy as np\n",
    "import seaborn as sns\n",
    "import matplotlib.pyplot as plt"
   ]
  },
  {
   "cell_type": "markdown",
   "id": "fd8fad2d",
   "metadata": {},
   "source": [
    "___\n",
    "### Introductory Task 1 - Data Cleaning\n",
    "***Time to look at the Olympic dataset I have been allotted.\n",
    "First I'll read the dataset using pandas.***\n",
    "\n"
   ]
  },
  {
   "cell_type": "code",
   "execution_count": 487,
   "id": "5742b07a",
   "metadata": {},
   "outputs": [],
   "source": [
    "data = pd.read_csv('39.csv')"
   ]
  },
  {
   "cell_type": "markdown",
   "id": "e18d9ce8",
   "metadata": {},
   "source": [
    "***Now to look at part of the and discern if there are missing or null values in it.***"
   ]
  },
  {
   "cell_type": "code",
   "execution_count": 488,
   "id": "d24a4f95",
   "metadata": {},
   "outputs": [
    {
     "data": {
      "text/html": [
       "<div>\n",
       "<style scoped>\n",
       "    .dataframe tbody tr th:only-of-type {\n",
       "        vertical-align: middle;\n",
       "    }\n",
       "\n",
       "    .dataframe tbody tr th {\n",
       "        vertical-align: top;\n",
       "    }\n",
       "\n",
       "    .dataframe thead th {\n",
       "        text-align: right;\n",
       "    }\n",
       "</style>\n",
       "<table border=\"1\" class=\"dataframe\">\n",
       "  <thead>\n",
       "    <tr style=\"text-align: right;\">\n",
       "      <th></th>\n",
       "      <th>ID</th>\n",
       "      <th>Name</th>\n",
       "      <th>Sex</th>\n",
       "      <th>Age</th>\n",
       "      <th>Height</th>\n",
       "      <th>Weight</th>\n",
       "      <th>Team</th>\n",
       "      <th>NOC</th>\n",
       "      <th>Games</th>\n",
       "      <th>Year</th>\n",
       "      <th>Season</th>\n",
       "      <th>City</th>\n",
       "      <th>Sport</th>\n",
       "      <th>Event</th>\n",
       "      <th>Medal</th>\n",
       "    </tr>\n",
       "  </thead>\n",
       "  <tbody>\n",
       "    <tr>\n",
       "      <th>0</th>\n",
       "      <td>337</td>\n",
       "      <td>Mukhammad Kadyr Abdullayev</td>\n",
       "      <td>M</td>\n",
       "      <td>26.0</td>\n",
       "      <td>169.0</td>\n",
       "      <td>63.0</td>\n",
       "      <td>Uzbekistan</td>\n",
       "      <td>UZB</td>\n",
       "      <td>2000 Summer</td>\n",
       "      <td>2000</td>\n",
       "      <td>Summer</td>\n",
       "      <td>Sydney</td>\n",
       "      <td>Boxing</td>\n",
       "      <td>Boxing Men's Light-Welterweight</td>\n",
       "      <td>Gold</td>\n",
       "    </tr>\n",
       "    <tr>\n",
       "      <th>1</th>\n",
       "      <td>646</td>\n",
       "      <td>Anibl Santiago Acevedo</td>\n",
       "      <td>M</td>\n",
       "      <td>21.0</td>\n",
       "      <td>176.0</td>\n",
       "      <td>67.0</td>\n",
       "      <td>Puerto Rico</td>\n",
       "      <td>PUR</td>\n",
       "      <td>1992 Summer</td>\n",
       "      <td>1992</td>\n",
       "      <td>Summer</td>\n",
       "      <td>Barcelona</td>\n",
       "      <td>Boxing</td>\n",
       "      <td>Boxing Men's Welterweight</td>\n",
       "      <td>Bronze</td>\n",
       "    </tr>\n",
       "    <tr>\n",
       "      <th>2</th>\n",
       "      <td>673</td>\n",
       "      <td>Abdel Hak Achik</td>\n",
       "      <td>M</td>\n",
       "      <td>29.0</td>\n",
       "      <td>165.0</td>\n",
       "      <td>54.0</td>\n",
       "      <td>Morocco</td>\n",
       "      <td>MAR</td>\n",
       "      <td>1988 Summer</td>\n",
       "      <td>1988</td>\n",
       "      <td>Summer</td>\n",
       "      <td>Seoul</td>\n",
       "      <td>Boxing</td>\n",
       "      <td>Boxing Men's Featherweight</td>\n",
       "      <td>Bronze</td>\n",
       "    </tr>\n",
       "    <tr>\n",
       "      <th>3</th>\n",
       "      <td>674</td>\n",
       "      <td>Mohamed Abdelhak Achik</td>\n",
       "      <td>M</td>\n",
       "      <td>27.0</td>\n",
       "      <td>174.0</td>\n",
       "      <td>57.0</td>\n",
       "      <td>Morocco</td>\n",
       "      <td>MAR</td>\n",
       "      <td>1992 Summer</td>\n",
       "      <td>1992</td>\n",
       "      <td>Summer</td>\n",
       "      <td>Barcelona</td>\n",
       "      <td>Boxing</td>\n",
       "      <td>Boxing Men's Bantamweight</td>\n",
       "      <td>Bronze</td>\n",
       "    </tr>\n",
       "    <tr>\n",
       "      <th>4</th>\n",
       "      <td>723</td>\n",
       "      <td>Osmay Acosta Duarte</td>\n",
       "      <td>M</td>\n",
       "      <td>23.0</td>\n",
       "      <td>188.0</td>\n",
       "      <td>91.0</td>\n",
       "      <td>Cuba</td>\n",
       "      <td>CUB</td>\n",
       "      <td>2008 Summer</td>\n",
       "      <td>2008</td>\n",
       "      <td>Summer</td>\n",
       "      <td>Beijing</td>\n",
       "      <td>Boxing</td>\n",
       "      <td>Boxing Men's Heavyweight</td>\n",
       "      <td>Bronze</td>\n",
       "    </tr>\n",
       "    <tr>\n",
       "      <th>...</th>\n",
       "      <td>...</td>\n",
       "      <td>...</td>\n",
       "      <td>...</td>\n",
       "      <td>...</td>\n",
       "      <td>...</td>\n",
       "      <td>...</td>\n",
       "      <td>...</td>\n",
       "      <td>...</td>\n",
       "      <td>...</td>\n",
       "      <td>...</td>\n",
       "      <td>...</td>\n",
       "      <td>...</td>\n",
       "      <td>...</td>\n",
       "      <td>...</td>\n",
       "      <td>...</td>\n",
       "    </tr>\n",
       "    <tr>\n",
       "      <th>1019</th>\n",
       "      <td>134525</td>\n",
       "      <td>Zhang Ning</td>\n",
       "      <td>F</td>\n",
       "      <td>33.0</td>\n",
       "      <td>175.0</td>\n",
       "      <td>65.0</td>\n",
       "      <td>China</td>\n",
       "      <td>CHN</td>\n",
       "      <td>2008 Summer</td>\n",
       "      <td>2008</td>\n",
       "      <td>Summer</td>\n",
       "      <td>Beijing</td>\n",
       "      <td>Badminton</td>\n",
       "      <td>Badminton Women's Singles</td>\n",
       "      <td>Gold</td>\n",
       "    </tr>\n",
       "    <tr>\n",
       "      <th>1020</th>\n",
       "      <td>134597</td>\n",
       "      <td>Zhang Yawen</td>\n",
       "      <td>F</td>\n",
       "      <td>23.0</td>\n",
       "      <td>162.0</td>\n",
       "      <td>58.0</td>\n",
       "      <td>China-2</td>\n",
       "      <td>CHN</td>\n",
       "      <td>2008 Summer</td>\n",
       "      <td>2008</td>\n",
       "      <td>Summer</td>\n",
       "      <td>Beijing</td>\n",
       "      <td>Badminton</td>\n",
       "      <td>Badminton Women's Doubles</td>\n",
       "      <td>Bronze</td>\n",
       "    </tr>\n",
       "    <tr>\n",
       "      <th>1021</th>\n",
       "      <td>134683</td>\n",
       "      <td>Zhao Yunlei</td>\n",
       "      <td>F</td>\n",
       "      <td>25.0</td>\n",
       "      <td>173.0</td>\n",
       "      <td>60.0</td>\n",
       "      <td>China-1</td>\n",
       "      <td>CHN</td>\n",
       "      <td>2012 Summer</td>\n",
       "      <td>2012</td>\n",
       "      <td>Summer</td>\n",
       "      <td>London</td>\n",
       "      <td>Badminton</td>\n",
       "      <td>Badminton Mixed Doubles</td>\n",
       "      <td>Gold</td>\n",
       "    </tr>\n",
       "    <tr>\n",
       "      <th>1022</th>\n",
       "      <td>134683</td>\n",
       "      <td>Zhao Yunlei</td>\n",
       "      <td>F</td>\n",
       "      <td>25.0</td>\n",
       "      <td>173.0</td>\n",
       "      <td>60.0</td>\n",
       "      <td>China-1</td>\n",
       "      <td>CHN</td>\n",
       "      <td>2012 Summer</td>\n",
       "      <td>2012</td>\n",
       "      <td>Summer</td>\n",
       "      <td>London</td>\n",
       "      <td>Badminton</td>\n",
       "      <td>Badminton Women's Doubles</td>\n",
       "      <td>Gold</td>\n",
       "    </tr>\n",
       "    <tr>\n",
       "      <th>1023</th>\n",
       "      <td>134683</td>\n",
       "      <td>Zhao Yunlei</td>\n",
       "      <td>F</td>\n",
       "      <td>29.0</td>\n",
       "      <td>173.0</td>\n",
       "      <td>60.0</td>\n",
       "      <td>China-1</td>\n",
       "      <td>CHN</td>\n",
       "      <td>2016 Summer</td>\n",
       "      <td>2016</td>\n",
       "      <td>Summer</td>\n",
       "      <td>Rio de Janeiro</td>\n",
       "      <td>Badminton</td>\n",
       "      <td>Badminton Mixed Doubles</td>\n",
       "      <td>Bronze</td>\n",
       "    </tr>\n",
       "  </tbody>\n",
       "</table>\n",
       "<p>1024 rows × 15 columns</p>\n",
       "</div>"
      ],
      "text/plain": [
       "          ID                        Name Sex   Age  Height  Weight  \\\n",
       "0        337  Mukhammad Kadyr Abdullayev   M  26.0   169.0    63.0   \n",
       "1        646      Anibl Santiago Acevedo   M  21.0   176.0    67.0   \n",
       "2        673             Abdel Hak Achik   M  29.0   165.0    54.0   \n",
       "3        674      Mohamed Abdelhak Achik   M  27.0   174.0    57.0   \n",
       "4        723         Osmay Acosta Duarte   M  23.0   188.0    91.0   \n",
       "...      ...                         ...  ..   ...     ...     ...   \n",
       "1019  134525                  Zhang Ning   F  33.0   175.0    65.0   \n",
       "1020  134597                 Zhang Yawen   F  23.0   162.0    58.0   \n",
       "1021  134683                 Zhao Yunlei   F  25.0   173.0    60.0   \n",
       "1022  134683                 Zhao Yunlei   F  25.0   173.0    60.0   \n",
       "1023  134683                 Zhao Yunlei   F  29.0   173.0    60.0   \n",
       "\n",
       "             Team  NOC        Games  Year  Season            City      Sport  \\\n",
       "0      Uzbekistan  UZB  2000 Summer  2000  Summer          Sydney     Boxing   \n",
       "1     Puerto Rico  PUR  1992 Summer  1992  Summer       Barcelona     Boxing   \n",
       "2         Morocco  MAR  1988 Summer  1988  Summer           Seoul     Boxing   \n",
       "3         Morocco  MAR  1992 Summer  1992  Summer       Barcelona     Boxing   \n",
       "4            Cuba  CUB  2008 Summer  2008  Summer         Beijing     Boxing   \n",
       "...           ...  ...          ...   ...     ...             ...        ...   \n",
       "1019        China  CHN  2008 Summer  2008  Summer         Beijing  Badminton   \n",
       "1020      China-2  CHN  2008 Summer  2008  Summer         Beijing  Badminton   \n",
       "1021      China-1  CHN  2012 Summer  2012  Summer          London  Badminton   \n",
       "1022      China-1  CHN  2012 Summer  2012  Summer          London  Badminton   \n",
       "1023      China-1  CHN  2016 Summer  2016  Summer  Rio de Janeiro  Badminton   \n",
       "\n",
       "                                Event   Medal  \n",
       "0     Boxing Men's Light-Welterweight    Gold  \n",
       "1           Boxing Men's Welterweight  Bronze  \n",
       "2          Boxing Men's Featherweight  Bronze  \n",
       "3           Boxing Men's Bantamweight  Bronze  \n",
       "4            Boxing Men's Heavyweight  Bronze  \n",
       "...                               ...     ...  \n",
       "1019        Badminton Women's Singles    Gold  \n",
       "1020        Badminton Women's Doubles  Bronze  \n",
       "1021          Badminton Mixed Doubles    Gold  \n",
       "1022        Badminton Women's Doubles    Gold  \n",
       "1023          Badminton Mixed Doubles  Bronze  \n",
       "\n",
       "[1024 rows x 15 columns]"
      ]
     },
     "execution_count": 488,
     "metadata": {},
     "output_type": "execute_result"
    }
   ],
   "source": [
    "data.head(-1)"
   ]
  },
  {
   "cell_type": "code",
   "execution_count": 489,
   "id": "dcee1884",
   "metadata": {},
   "outputs": [
    {
     "name": "stdout",
     "output_type": "stream",
     "text": [
      "<class 'pandas.core.frame.DataFrame'>\n",
      "RangeIndex: 1025 entries, 0 to 1024\n",
      "Data columns (total 15 columns):\n",
      " #   Column  Non-Null Count  Dtype  \n",
      "---  ------  --------------  -----  \n",
      " 0   ID      1025 non-null   int64  \n",
      " 1   Name    1025 non-null   object \n",
      " 2   Sex     1025 non-null   object \n",
      " 3   Age     1021 non-null   float64\n",
      " 4   Height  1020 non-null   float64\n",
      " 5   Weight  1017 non-null   float64\n",
      " 6   Team    1025 non-null   object \n",
      " 7   NOC     1025 non-null   object \n",
      " 8   Games   1025 non-null   object \n",
      " 9   Year    1025 non-null   int64  \n",
      " 10  Season  1025 non-null   object \n",
      " 11  City    1025 non-null   object \n",
      " 12  Sport   1025 non-null   object \n",
      " 13  Event   1025 non-null   object \n",
      " 14  Medal   1025 non-null   object \n",
      "dtypes: float64(3), int64(2), object(10)\n",
      "memory usage: 120.2+ KB\n"
     ]
    }
   ],
   "source": [
    "data.info()"
   ]
  },
  {
   "cell_type": "markdown",
   "id": "087ee024",
   "metadata": {},
   "source": [
    "**There doesn't seem to be any null values in this dataset according to the info() property.**\n",
    "**That makes my task so much more easier :)** **But just for assurance, let me do it the old fashioned way...**"
   ]
  },
  {
   "cell_type": "code",
   "execution_count": 490,
   "id": "b0dd0f8f",
   "metadata": {},
   "outputs": [
    {
     "name": "stdout",
     "output_type": "stream",
     "text": [
      "0  missing height values\n",
      "0  missing weight values\n"
     ]
    }
   ],
   "source": [
    "missing = (data['Height'] ==0).sum()\n",
    "print(missing,\" missing height values\")\n",
    "missing = (data['Weight'] ==0).sum()\n",
    "print(missing,\" missing weight values\")\n"
   ]
  },
  {
   "cell_type": "markdown",
   "id": "0d4212db",
   "metadata": {},
   "source": [
    "***Perfect! Moving on to the next task.***\n",
    "\n",
    "*Note: China1 and China2 might look similar, but are infact the names for PRC and Taiwan respectively from what I recall, I will not be clubbing them under one banner because democracy.*\n",
    "___"
   ]
  },
  {
   "cell_type": "markdown",
   "id": "52240878",
   "metadata": {},
   "source": [
    "### Introductory Task 2 - Visualizing the age for silver medalists\n",
    "**For this, I'll just copy over the dataset and drop all the rows with gold or silver medallists.**"
   ]
  },
  {
   "cell_type": "code",
   "execution_count": 491,
   "id": "4b59bcdb",
   "metadata": {},
   "outputs": [],
   "source": [
    "silver_winners = data.copy()\n",
    "gold_winners = data[data['Medal'] == 'Gold'].index \n",
    "bronze_winners = data[data['Medal']=='Bronze'].index\n",
    "silver_winners.drop(gold_winners,inplace=True)\n",
    "silver_winners.drop(bronze_winners,inplace = True)\n",
    "data = pd.read_csv('39.csv')"
   ]
  },
  {
   "cell_type": "markdown",
   "id": "34df3c2a",
   "metadata": {},
   "source": [
    "**And now I have data of exclusively the silver medallists...** "
   ]
  },
  {
   "cell_type": "code",
   "execution_count": 492,
   "id": "2acb70d9",
   "metadata": {},
   "outputs": [
    {
     "data": {
      "text/html": [
       "<div>\n",
       "<style scoped>\n",
       "    .dataframe tbody tr th:only-of-type {\n",
       "        vertical-align: middle;\n",
       "    }\n",
       "\n",
       "    .dataframe tbody tr th {\n",
       "        vertical-align: top;\n",
       "    }\n",
       "\n",
       "    .dataframe thead th {\n",
       "        text-align: right;\n",
       "    }\n",
       "</style>\n",
       "<table border=\"1\" class=\"dataframe\">\n",
       "  <thead>\n",
       "    <tr style=\"text-align: right;\">\n",
       "      <th></th>\n",
       "      <th>ID</th>\n",
       "      <th>Name</th>\n",
       "      <th>Sex</th>\n",
       "      <th>Age</th>\n",
       "      <th>Height</th>\n",
       "      <th>Weight</th>\n",
       "      <th>Team</th>\n",
       "      <th>NOC</th>\n",
       "      <th>Games</th>\n",
       "      <th>Year</th>\n",
       "      <th>Season</th>\n",
       "      <th>City</th>\n",
       "      <th>Sport</th>\n",
       "      <th>Event</th>\n",
       "      <th>Medal</th>\n",
       "    </tr>\n",
       "  </thead>\n",
       "  <tbody>\n",
       "    <tr>\n",
       "      <th>8</th>\n",
       "      <td>851</td>\n",
       "      <td>Jerzy Adamski</td>\n",
       "      <td>M</td>\n",
       "      <td>23.0</td>\n",
       "      <td>171.0</td>\n",
       "      <td>58.0</td>\n",
       "      <td>Poland</td>\n",
       "      <td>POL</td>\n",
       "      <td>1960 Summer</td>\n",
       "      <td>1960</td>\n",
       "      <td>Summer</td>\n",
       "      <td>Roma</td>\n",
       "      <td>Boxing</td>\n",
       "      <td>Boxing Men's Featherweight</td>\n",
       "      <td>Silver</td>\n",
       "    </tr>\n",
       "    <tr>\n",
       "      <th>13</th>\n",
       "      <td>2420</td>\n",
       "      <td>Andrs Aldama Cabrera</td>\n",
       "      <td>M</td>\n",
       "      <td>20.0</td>\n",
       "      <td>183.0</td>\n",
       "      <td>63.0</td>\n",
       "      <td>Cuba</td>\n",
       "      <td>CUB</td>\n",
       "      <td>1976 Summer</td>\n",
       "      <td>1976</td>\n",
       "      <td>Summer</td>\n",
       "      <td>Montreal</td>\n",
       "      <td>Boxing</td>\n",
       "      <td>Boxing Men's Light-Welterweight</td>\n",
       "      <td>Silver</td>\n",
       "    </tr>\n",
       "    <tr>\n",
       "      <th>15</th>\n",
       "      <td>2599</td>\n",
       "      <td>Ion Alexe</td>\n",
       "      <td>M</td>\n",
       "      <td>26.0</td>\n",
       "      <td>189.0</td>\n",
       "      <td>81.0</td>\n",
       "      <td>Romania</td>\n",
       "      <td>ROU</td>\n",
       "      <td>1972 Summer</td>\n",
       "      <td>1972</td>\n",
       "      <td>Summer</td>\n",
       "      <td>Munich</td>\n",
       "      <td>Boxing</td>\n",
       "      <td>Boxing Men's Heavyweight</td>\n",
       "      <td>Silver</td>\n",
       "    </tr>\n",
       "    <tr>\n",
       "      <th>20</th>\n",
       "      <td>3240</td>\n",
       "      <td>Mohamed Aly Reda</td>\n",
       "      <td>M</td>\n",
       "      <td>29.0</td>\n",
       "      <td>190.0</td>\n",
       "      <td>91.0</td>\n",
       "      <td>Egypt</td>\n",
       "      <td>EGY</td>\n",
       "      <td>2004 Summer</td>\n",
       "      <td>2004</td>\n",
       "      <td>Summer</td>\n",
       "      <td>Athina</td>\n",
       "      <td>Boxing</td>\n",
       "      <td>Boxing Men's Super-Heavyweight</td>\n",
       "      <td>Silver</td>\n",
       "    </tr>\n",
       "    <tr>\n",
       "      <th>22</th>\n",
       "      <td>3608</td>\n",
       "      <td>An Yeong-Su</td>\n",
       "      <td>M</td>\n",
       "      <td>20.0</td>\n",
       "      <td>174.0</td>\n",
       "      <td>70.0</td>\n",
       "      <td>South Korea</td>\n",
       "      <td>KOR</td>\n",
       "      <td>1984 Summer</td>\n",
       "      <td>1984</td>\n",
       "      <td>Summer</td>\n",
       "      <td>Los Angeles</td>\n",
       "      <td>Boxing</td>\n",
       "      <td>Boxing Men's Welterweight</td>\n",
       "      <td>Silver</td>\n",
       "    </tr>\n",
       "  </tbody>\n",
       "</table>\n",
       "</div>"
      ],
      "text/plain": [
       "      ID                  Name Sex   Age  Height  Weight         Team  NOC  \\\n",
       "8    851         Jerzy Adamski   M  23.0   171.0    58.0       Poland  POL   \n",
       "13  2420  Andrs Aldama Cabrera   M  20.0   183.0    63.0         Cuba  CUB   \n",
       "15  2599             Ion Alexe   M  26.0   189.0    81.0      Romania  ROU   \n",
       "20  3240      Mohamed Aly Reda   M  29.0   190.0    91.0        Egypt  EGY   \n",
       "22  3608           An Yeong-Su   M  20.0   174.0    70.0  South Korea  KOR   \n",
       "\n",
       "          Games  Year  Season         City   Sport  \\\n",
       "8   1960 Summer  1960  Summer         Roma  Boxing   \n",
       "13  1976 Summer  1976  Summer     Montreal  Boxing   \n",
       "15  1972 Summer  1972  Summer       Munich  Boxing   \n",
       "20  2004 Summer  2004  Summer       Athina  Boxing   \n",
       "22  1984 Summer  1984  Summer  Los Angeles  Boxing   \n",
       "\n",
       "                              Event   Medal  \n",
       "8        Boxing Men's Featherweight  Silver  \n",
       "13  Boxing Men's Light-Welterweight  Silver  \n",
       "15         Boxing Men's Heavyweight  Silver  \n",
       "20   Boxing Men's Super-Heavyweight  Silver  \n",
       "22        Boxing Men's Welterweight  Silver  "
      ]
     },
     "execution_count": 492,
     "metadata": {},
     "output_type": "execute_result"
    }
   ],
   "source": [
    "silver_winners.head(5)"
   ]
  },
  {
   "cell_type": "code",
   "execution_count": 493,
   "id": "5bab5050",
   "metadata": {},
   "outputs": [
    {
     "data": {
      "text/plain": [
       "<AxesSubplot:xlabel='Age', ylabel='Number of winners'>"
      ]
     },
     "execution_count": 493,
     "metadata": {},
     "output_type": "execute_result"
    },
    {
     "data": {
      "image/png": "[encoded data removed]",
      "text/plain": [
       "<Figure size 864x504 with 1 Axes>"
      ]
     },
     "metadata": {},
     "output_type": "display_data"
    }
   ],
   "source": [
    "plt.figure(figsize=(12,7))\n",
    "plt.xlabel(\"Age\")\n",
    "plt.ylabel(\"Number of winners\")\n",
    "sns.histplot(silver_winners['Age'],color=\"darkblue\")"
   ]
  },
  {
   "cell_type": "code",
   "execution_count": 494,
   "id": "376669c5",
   "metadata": {},
   "outputs": [
    {
     "name": "stderr",
     "output_type": "stream",
     "text": [
      "/home/swapnilsnair/anaconda3/lib/python3.8/site-packages/seaborn/distributions.py:2557: FutureWarning: `distplot` is a deprecated function and will be removed in a future version. Please adapt your code to use either `displot` (a figure-level function with similar flexibility) or `histplot` (an axes-level function for histograms).\n",
      "  warnings.warn(msg, FutureWarning)\n"
     ]
    },
    {
     "data": {
      "text/plain": [
       "<AxesSubplot:xlabel='Age', ylabel='Proportion of winners'>"
      ]
     },
     "execution_count": 494,
     "metadata": {},
     "output_type": "execute_result"
    },
    {
     "data": {
      "image/png": "[encoded data removed]",
      "text/plain": [
       "<Figure size 864x504 with 1 Axes>"
      ]
     },
     "metadata": {},
     "output_type": "display_data"
    }
   ],
   "source": [
    "plt.figure(figsize=(12,7))\n",
    "plt.xlabel(\"Age\")\n",
    "plt.ylabel(\"Proportion of winners\")\n",
    "sns.distplot(silver_winners['Age'],color=\"darkblue\")"
   ]
  },
  {
   "cell_type": "markdown",
   "id": "e85e8018",
   "metadata": {},
   "source": [
    "**Pretty high percentage in that 24-26 bracket I must say.**\n",
    "___"
   ]
  },
  {
   "cell_type": "markdown",
   "id": "2691efb4",
   "metadata": {},
   "source": [
    "### Introductory Question 3 - Create and populate a column called BMI\n",
    "**Quite simple actually, I just add a new column and fill it with the corresponding weight divided by the square of the height in meters.**"
   ]
  },
  {
   "cell_type": "code",
   "execution_count": 495,
   "id": "ffc5be35",
   "metadata": {},
   "outputs": [],
   "source": [
    "data['BMI'] = data['Weight']/(data['Height']/100)**2"
   ]
  },
  {
   "cell_type": "code",
   "execution_count": 496,
   "id": "700fe89a",
   "metadata": {},
   "outputs": [
    {
     "data": {
      "text/html": [
       "<div>\n",
       "<style scoped>\n",
       "    .dataframe tbody tr th:only-of-type {\n",
       "        vertical-align: middle;\n",
       "    }\n",
       "\n",
       "    .dataframe tbody tr th {\n",
       "        vertical-align: top;\n",
       "    }\n",
       "\n",
       "    .dataframe thead th {\n",
       "        text-align: right;\n",
       "    }\n",
       "</style>\n",
       "<table border=\"1\" class=\"dataframe\">\n",
       "  <thead>\n",
       "    <tr style=\"text-align: right;\">\n",
       "      <th></th>\n",
       "      <th>ID</th>\n",
       "      <th>Name</th>\n",
       "      <th>Sex</th>\n",
       "      <th>Age</th>\n",
       "      <th>Height</th>\n",
       "      <th>Weight</th>\n",
       "      <th>Team</th>\n",
       "      <th>NOC</th>\n",
       "      <th>Games</th>\n",
       "      <th>Year</th>\n",
       "      <th>Season</th>\n",
       "      <th>City</th>\n",
       "      <th>Sport</th>\n",
       "      <th>Event</th>\n",
       "      <th>Medal</th>\n",
       "      <th>BMI</th>\n",
       "    </tr>\n",
       "  </thead>\n",
       "  <tbody>\n",
       "    <tr>\n",
       "      <th>0</th>\n",
       "      <td>337</td>\n",
       "      <td>Mukhammad Kadyr Abdullayev</td>\n",
       "      <td>M</td>\n",
       "      <td>26.0</td>\n",
       "      <td>169.0</td>\n",
       "      <td>63.0</td>\n",
       "      <td>Uzbekistan</td>\n",
       "      <td>UZB</td>\n",
       "      <td>2000 Summer</td>\n",
       "      <td>2000</td>\n",
       "      <td>Summer</td>\n",
       "      <td>Sydney</td>\n",
       "      <td>Boxing</td>\n",
       "      <td>Boxing Men's Light-Welterweight</td>\n",
       "      <td>Gold</td>\n",
       "      <td>22.058051</td>\n",
       "    </tr>\n",
       "    <tr>\n",
       "      <th>1</th>\n",
       "      <td>646</td>\n",
       "      <td>Anibl Santiago Acevedo</td>\n",
       "      <td>M</td>\n",
       "      <td>21.0</td>\n",
       "      <td>176.0</td>\n",
       "      <td>67.0</td>\n",
       "      <td>Puerto Rico</td>\n",
       "      <td>PUR</td>\n",
       "      <td>1992 Summer</td>\n",
       "      <td>1992</td>\n",
       "      <td>Summer</td>\n",
       "      <td>Barcelona</td>\n",
       "      <td>Boxing</td>\n",
       "      <td>Boxing Men's Welterweight</td>\n",
       "      <td>Bronze</td>\n",
       "      <td>21.629649</td>\n",
       "    </tr>\n",
       "    <tr>\n",
       "      <th>2</th>\n",
       "      <td>673</td>\n",
       "      <td>Abdel Hak Achik</td>\n",
       "      <td>M</td>\n",
       "      <td>29.0</td>\n",
       "      <td>165.0</td>\n",
       "      <td>54.0</td>\n",
       "      <td>Morocco</td>\n",
       "      <td>MAR</td>\n",
       "      <td>1988 Summer</td>\n",
       "      <td>1988</td>\n",
       "      <td>Summer</td>\n",
       "      <td>Seoul</td>\n",
       "      <td>Boxing</td>\n",
       "      <td>Boxing Men's Featherweight</td>\n",
       "      <td>Bronze</td>\n",
       "      <td>19.834711</td>\n",
       "    </tr>\n",
       "    <tr>\n",
       "      <th>3</th>\n",
       "      <td>674</td>\n",
       "      <td>Mohamed Abdelhak Achik</td>\n",
       "      <td>M</td>\n",
       "      <td>27.0</td>\n",
       "      <td>174.0</td>\n",
       "      <td>57.0</td>\n",
       "      <td>Morocco</td>\n",
       "      <td>MAR</td>\n",
       "      <td>1992 Summer</td>\n",
       "      <td>1992</td>\n",
       "      <td>Summer</td>\n",
       "      <td>Barcelona</td>\n",
       "      <td>Boxing</td>\n",
       "      <td>Boxing Men's Bantamweight</td>\n",
       "      <td>Bronze</td>\n",
       "      <td>18.826793</td>\n",
       "    </tr>\n",
       "    <tr>\n",
       "      <th>4</th>\n",
       "      <td>723</td>\n",
       "      <td>Osmay Acosta Duarte</td>\n",
       "      <td>M</td>\n",
       "      <td>23.0</td>\n",
       "      <td>188.0</td>\n",
       "      <td>91.0</td>\n",
       "      <td>Cuba</td>\n",
       "      <td>CUB</td>\n",
       "      <td>2008 Summer</td>\n",
       "      <td>2008</td>\n",
       "      <td>Summer</td>\n",
       "      <td>Beijing</td>\n",
       "      <td>Boxing</td>\n",
       "      <td>Boxing Men's Heavyweight</td>\n",
       "      <td>Bronze</td>\n",
       "      <td>25.746944</td>\n",
       "    </tr>\n",
       "  </tbody>\n",
       "</table>\n",
       "</div>"
      ],
      "text/plain": [
       "    ID                        Name Sex   Age  Height  Weight         Team  \\\n",
       "0  337  Mukhammad Kadyr Abdullayev   M  26.0   169.0    63.0   Uzbekistan   \n",
       "1  646      Anibl Santiago Acevedo   M  21.0   176.0    67.0  Puerto Rico   \n",
       "2  673             Abdel Hak Achik   M  29.0   165.0    54.0      Morocco   \n",
       "3  674      Mohamed Abdelhak Achik   M  27.0   174.0    57.0      Morocco   \n",
       "4  723         Osmay Acosta Duarte   M  23.0   188.0    91.0         Cuba   \n",
       "\n",
       "   NOC        Games  Year  Season       City   Sport  \\\n",
       "0  UZB  2000 Summer  2000  Summer     Sydney  Boxing   \n",
       "1  PUR  1992 Summer  1992  Summer  Barcelona  Boxing   \n",
       "2  MAR  1988 Summer  1988  Summer      Seoul  Boxing   \n",
       "3  MAR  1992 Summer  1992  Summer  Barcelona  Boxing   \n",
       "4  CUB  2008 Summer  2008  Summer    Beijing  Boxing   \n",
       "\n",
       "                             Event   Medal        BMI  \n",
       "0  Boxing Men's Light-Welterweight    Gold  22.058051  \n",
       "1        Boxing Men's Welterweight  Bronze  21.629649  \n",
       "2       Boxing Men's Featherweight  Bronze  19.834711  \n",
       "3        Boxing Men's Bantamweight  Bronze  18.826793  \n",
       "4         Boxing Men's Heavyweight  Bronze  25.746944  "
      ]
     },
     "execution_count": 496,
     "metadata": {},
     "output_type": "execute_result"
    }
   ],
   "source": [
    "data.head(5)"
   ]
  },
  {
   "cell_type": "markdown",
   "id": "dbf6bfc0",
   "metadata": {},
   "source": [
    "**There we go,exactly as I wanted it to go. Every player's BMI right next to their names...**"
   ]
  },
  {
   "cell_type": "markdown",
   "id": "7f69d1eb",
   "metadata": {},
   "source": [
    "___\n",
    "### Introductory Question 4 - Generate a Scatterplot between the athletes Height and Weight\n",
    "**Seaborn to my rescue, I'm expecting a strong positive correlation between the two parameters. After all, it is common intuition that taller people weigh more than a shorter person with a similar physique**"
   ]
  },
  {
   "cell_type": "code",
   "execution_count": 497,
   "id": "33cb0316",
   "metadata": {},
   "outputs": [
    {
     "data": {
      "text/plain": [
       "<AxesSubplot:xlabel='Height (in cm)', ylabel='Weight (in kgs)'>"
      ]
     },
     "execution_count": 497,
     "metadata": {},
     "output_type": "execute_result"
    },
    {
     "data": {
      "image/png": "[encoded data removed]",
      "text/plain": [
       "<Figure size 864x576 with 1 Axes>"
      ]
     },
     "metadata": {},
     "output_type": "display_data"
    }
   ],
   "source": [
    "plt.figure(figsize=(12,8))\n",
    "plt.xlabel(\"Height (in cm)\")\n",
    "plt.ylabel(\"Weight (in kgs)\")\n",
    "sns.scatterplot(x='Height',y='Weight',data = data)"
   ]
  },
  {
   "cell_type": "markdown",
   "id": "334c82c1",
   "metadata": {},
   "source": [
    "**Voila! my assumption was right. There indeed seems to be a strong correlation between an Olympian's height and weight according to the scatterplot.**\n",
    "\n",
    "**Let me just quickly calculate the correlation coefficient here to be absolutely certain...**\n"
   ]
  },
  {
   "cell_type": "code",
   "execution_count": 498,
   "id": "2cd1d56b",
   "metadata": {},
   "outputs": [
    {
     "data": {
      "text/plain": [
       "0.8481834663065507"
      ]
     },
     "execution_count": 498,
     "metadata": {},
     "output_type": "execute_result"
    }
   ],
   "source": [
    "data['Height'].corr(data['Weight'])"
   ]
  },
  {
   "cell_type": "markdown",
   "id": "650fde24",
   "metadata": {},
   "source": [
    "**The value and the visuals confirms my hypothesis. There is without an inkling of doubt a strong correlation between Height and Weight**\n",
    "___"
   ]
  },
  {
   "cell_type": "markdown",
   "id": "841a5367",
   "metadata": {},
   "source": [
    "### Introductory Task 4 - Sportwise gender distribution \n",
    "**The three sports I have been assigned are Boxing, Badminton and TableTennis.**\n",
    "\n",
    "**NOTE: The question says past 5 years, however the olympics are held only once every 4 years and it would be absurd to plot data from only one game for this, thus I have taken the question to have meant last 5 games instead**\n"
   ]
  },
  {
   "cell_type": "code",
   "execution_count": 499,
   "id": "e90246e9",
   "metadata": {},
   "outputs": [],
   "source": [
    "new_data = data[data['Year']>=2000]"
   ]
  },
  {
   "cell_type": "code",
   "execution_count": 500,
   "id": "2c3170d8",
   "metadata": {},
   "outputs": [],
   "source": [
    "boxing_data = new_data[new_data['Sport']=='Boxing']\n",
    "table_tennis_data = new_data[new_data['Sport']=='Table Tennis']\n",
    "badminton_data = new_data[new_data['Sport']=='Badminton']"
   ]
  },
  {
   "cell_type": "markdown",
   "id": "59151adc",
   "metadata": {},
   "source": [
    "**Now that I have split the data based on the time and sport, lets move on to plotting the frequencies shall we?**"
   ]
  },
  {
   "cell_type": "code",
   "execution_count": 501,
   "id": "1bc987a6",
   "metadata": {},
   "outputs": [
    {
     "name": "stderr",
     "output_type": "stream",
     "text": [
      "/home/swapnilsnair/anaconda3/lib/python3.8/site-packages/seaborn/_decorators.py:36: FutureWarning: Pass the following variable as a keyword arg: x. From version 0.12, the only valid positional argument will be `data`, and passing other arguments without an explicit keyword will result in an error or misinterpretation.\n",
      "  warnings.warn(\n"
     ]
    },
    {
     "data": {
      "text/plain": [
       "M    210\n",
       "F     23\n",
       "Name: Sex, dtype: int64"
      ]
     },
     "execution_count": 501,
     "metadata": {},
     "output_type": "execute_result"
    },
    {
     "data": {
      "image/png": "[encoded data removed]",
      "text/plain": [
       "<Figure size 576x504 with 1 Axes>"
      ]
     },
     "metadata": {},
     "output_type": "display_data"
    }
   ],
   "source": [
    "plt.figure(figsize=(8,7))\n",
    "sns.countplot(boxing_data['Year'],hue=boxing_data.Sex)\n",
    "boxing_data.Sex.value_counts()"
   ]
  },
  {
   "cell_type": "code",
   "execution_count": 502,
   "id": "a9755dc9",
   "metadata": {},
   "outputs": [
    {
     "name": "stderr",
     "output_type": "stream",
     "text": [
      "/home/swapnilsnair/anaconda3/lib/python3.8/site-packages/seaborn/_decorators.py:36: FutureWarning: Pass the following variable as a keyword arg: x. From version 0.12, the only valid positional argument will be `data`, and passing other arguments without an explicit keyword will result in an error or misinterpretation.\n",
      "  warnings.warn(\n"
     ]
    },
    {
     "data": {
      "text/plain": [
       "F    60\n",
       "M    59\n",
       "Name: Sex, dtype: int64"
      ]
     },
     "execution_count": 502,
     "metadata": {},
     "output_type": "execute_result"
    },
    {
     "data": {
      "image/png": "[encoded data removed]",
      "text/plain": [
       "<Figure size 576x504 with 1 Axes>"
      ]
     },
     "metadata": {},
     "output_type": "display_data"
    }
   ],
   "source": [
    "plt.figure(figsize=(8,7))\n",
    "sns.countplot(badminton_data['Year'],hue=badminton_data.Sex)\n",
    "badminton_data.Sex.value_counts()"
   ]
  },
  {
   "cell_type": "code",
   "execution_count": 503,
   "id": "4ce6453b",
   "metadata": {},
   "outputs": [
    {
     "name": "stderr",
     "output_type": "stream",
     "text": [
      "/home/swapnilsnair/anaconda3/lib/python3.8/site-packages/seaborn/_decorators.py:36: FutureWarning: Pass the following variable as a keyword arg: x. From version 0.12, the only valid positional argument will be `data`, and passing other arguments without an explicit keyword will result in an error or misinterpretation.\n",
      "  warnings.warn(\n"
     ]
    },
    {
     "data": {
      "text/plain": [
       "F    54\n",
       "M    54\n",
       "Name: Sex, dtype: int64"
      ]
     },
     "execution_count": 503,
     "metadata": {},
     "output_type": "execute_result"
    },
    {
     "data": {
      "image/png": "[encoded data removed]",
      "text/plain": [
       "<Figure size 576x504 with 1 Axes>"
      ]
     },
     "metadata": {},
     "output_type": "display_data"
    }
   ],
   "source": [
    "plt.figure(figsize=(8,7))\n",
    "sns.countplot(table_tennis_data['Year'],hue=table_tennis_data.Sex)\n",
    "table_tennis_data.Sex.value_counts()"
   ]
  },
  {
   "cell_type": "markdown",
   "id": "fbf5a25b",
   "metadata": {},
   "source": [
    "**Woah, while boxing shows a clear lack of women medallists until 2012, table tennis and badminton show a striking contrast with men and women being equally represented all the way since 2000.**\n",
    "*On deeper inspection however,I suspect that I got a mixed doubles data set for the latter two sports,which would explain the near perfect ratio.*\n",
    "~~Moments of extreme panic here because I thought I goofed up somewhere~~"
   ]
  },
  {
   "cell_type": "markdown",
   "id": "660c22bf",
   "metadata": {},
   "source": [
    "___\n",
    "### Task Question 1 - Stacked plot for Medal Count\n",
    "**Let me first split it sportwise.Then find the max occurring team** "
   ]
  },
  {
   "cell_type": "code",
   "execution_count": 504,
   "id": "99de34d9",
   "metadata": {},
   "outputs": [],
   "source": [
    "data = pd.read_csv('39.csv')\n",
    "boxing = data[data['Sport']=='Boxing']\n",
    "badminton = data[data['Sport'] == 'Badminton']\n",
    "tt = data[data['Sport']=='Table Tennis']"
   ]
  },
  {
   "cell_type": "markdown",
   "id": "b39fb54e",
   "metadata": {},
   "source": [
    "**Of course I looked at Boxing first. Turns out the USA has made the most appearances, who would have guessed ...**"
   ]
  },
  {
   "cell_type": "code",
   "execution_count": 505,
   "id": "baf85172",
   "metadata": {},
   "outputs": [
    {
     "data": {
      "text/plain": [
       "United States    78\n",
       "Cuba             73\n",
       "Poland           41\n",
       "Name: Team, dtype: int64"
      ]
     },
     "execution_count": 505,
     "metadata": {},
     "output_type": "execute_result"
    }
   ],
   "source": [
    "boxing.Team.value_counts().head(3)"
   ]
  },
  {
   "cell_type": "markdown",
   "id": "9687ca81",
   "metadata": {},
   "source": [
    "**Then comes the Chinese for Badminton, I'll give this one to Mainland China.**"
   ]
  },
  {
   "cell_type": "code",
   "execution_count": 506,
   "id": "493ccc98",
   "metadata": {},
   "outputs": [
    {
     "data": {
      "text/plain": [
       "China      24\n",
       "China-1    22\n",
       "China-2    18\n",
       "Name: Team, dtype: int64"
      ]
     },
     "execution_count": 506,
     "metadata": {},
     "output_type": "execute_result"
    }
   ],
   "source": [
    "badminton.Team.value_counts().head(3)"
   ]
  },
  {
   "cell_type": "markdown",
   "id": "8effd425",
   "metadata": {},
   "source": [
    "**China absolutely dominates Table Tennis, no contest here.**"
   ]
  },
  {
   "cell_type": "code",
   "execution_count": 507,
   "id": "fe99ae85",
   "metadata": {},
   "outputs": [
    {
     "data": {
      "text/plain": [
       "China          51\n",
       "China-1        18\n",
       "South Korea    17\n",
       "Germany        16\n",
       "China-2        12\n",
       "Name: Team, dtype: int64"
      ]
     },
     "execution_count": 507,
     "metadata": {},
     "output_type": "execute_result"
    }
   ],
   "source": [
    "tt.Team.value_counts().head(5)"
   ]
  },
  {
   "cell_type": "markdown",
   "id": "a606d7af",
   "metadata": {},
   "source": [
    "**Now to cumulate the yearwise medal tally for the countries in question using groupby**"
   ]
  },
  {
   "cell_type": "code",
   "execution_count": 552,
   "id": "e54c0a30",
   "metadata": {},
   "outputs": [
    {
     "data": {
      "text/plain": [
       "Year  Medal \n",
       "1988  Bronze    6\n",
       "      Gold      6\n",
       "      Silver    6\n",
       "1992  Bronze    8\n",
       "      Gold      6\n",
       "      Silver    6\n",
       "1996  Bronze    5\n",
       "      Gold      6\n",
       "      Silver    6\n",
       "2000  Bronze    6\n",
       "Name: Medal, dtype: int64"
      ]
     },
     "execution_count": 552,
     "metadata": {},
     "output_type": "execute_result"
    }
   ],
   "source": [
    "china_wins = data[(data['Team'] =='China')]\n",
    "china_wins = data[data['Sport']== 'Table Tennis']\n",
    "#china_wins = china_wins.groupby('Year')['Medal'].count()\n",
    "china_wins = china_wins.groupby(['Year','Medal']).Medal.count()\n",
    "china_wins.head(10)"
   ]
  },
  {
   "cell_type": "code",
   "execution_count": 553,
   "id": "c8f5c8ec",
   "metadata": {},
   "outputs": [
    {
     "data": {
      "text/plain": [
       "<AxesSubplot:xlabel='Year,Medal'>"
      ]
     },
     "execution_count": 553,
     "metadata": {},
     "output_type": "execute_result"
    },
    {
     "data": {
      "image/png": "[encoded data removed]",
      "text/plain": [
       "<Figure size 1080x576 with 1 Axes>"
      ]
     },
     "metadata": {},
     "output_type": "display_data"
    }
   ],
   "source": [
    "plt.figure(figsize=(15,8))\n",
    "china_wins.plot(x='Year',kind=\"bar\",stacked=True,color=['brown',\"gold\",'silver'])"
   ]
  },
  {
   "cell_type": "markdown",
   "id": "82f1d116",
   "metadata": {},
   "source": [
    "**For China in Badminton**"
   ]
  },
  {
   "cell_type": "code",
   "execution_count": 509,
   "id": "2bc82f05",
   "metadata": {},
   "outputs": [
    {
     "data": {
      "text/plain": [
       "Year  Medal \n",
       "1992  Bronze    10\n",
       "      Gold       2\n",
       "      Silver     5\n",
       "1996  Bronze     6\n",
       "      Gold       6\n",
       "      Silver     6\n",
       "2000  Bronze     8\n",
       "      Gold       8\n",
       "      Silver     8\n",
       "2004  Bronze     8\n",
       "Name: Medal, dtype: int64"
      ]
     },
     "execution_count": 509,
     "metadata": {},
     "output_type": "execute_result"
    }
   ],
   "source": [
    "chinawins = data[data['Team'] =='China']\n",
    "chinawins = data[data['Sport'] =='Badminton']\n",
    "chinawins = chinawins.groupby(['Year','Medal']).Medal.count()\n",
    "#chinawins = chinawins.groupby('Year')['Medal'].count()\n",
    "chinawins.head(10)"
   ]
  },
  {
   "cell_type": "code",
   "execution_count": 547,
   "id": "b45b5100",
   "metadata": {},
   "outputs": [
    {
     "data": {
      "text/plain": [
       "<AxesSubplot:xlabel='Year,Medal'>"
      ]
     },
     "execution_count": 547,
     "metadata": {},
     "output_type": "execute_result"
    },
    {
     "data": {
      "image/png": "[encoded data removed]",
      "text/plain": [
       "<Figure size 1080x576 with 1 Axes>"
      ]
     },
     "metadata": {},
     "output_type": "display_data"
    }
   ],
   "source": [
    "plt.figure(figsize=(15,8))\n",
    "chinawins.plot(x='Year',kind=\"bar\",stacked=True,color=['brown',\"gold\",'silver'])"
   ]
  },
  {
   "cell_type": "markdown",
   "id": "8faa5870",
   "metadata": {},
   "source": [
    "**Finally The USA in Boxing**"
   ]
  },
  {
   "cell_type": "code",
   "execution_count": 545,
   "id": "d0bcb7a3",
   "metadata": {},
   "outputs": [
    {
     "data": {
      "text/plain": [
       "Year  Medal \n",
       "1904  Gold      1\n",
       "      Silver    1\n",
       "1920  Gold      2\n",
       "1924  Bronze    2\n",
       "      Gold      3\n",
       "1928  Gold      2\n",
       "1932  Bronze    1\n",
       "      Gold      3\n",
       "1936  Gold      2\n",
       "      Silver    2\n",
       "Name: Medal, dtype: int64"
      ]
     },
     "execution_count": 545,
     "metadata": {},
     "output_type": "execute_result"
    }
   ],
   "source": [
    "uswins = data[data['Team'] =='USA']\n",
    "uswins = data[data['Sport'] =='Boxing']\n",
    "uswins = uswins.groupby(['Year','Medal']).Medal.count()\n",
    "uswins.head(10)"
   ]
  },
  {
   "cell_type": "code",
   "execution_count": 546,
   "id": "7461e371",
   "metadata": {},
   "outputs": [
    {
     "data": {
      "text/plain": [
       "<AxesSubplot:xlabel='Year,Medal'>"
      ]
     },
     "execution_count": 546,
     "metadata": {},
     "output_type": "execute_result"
    },
    {
     "data": {
      "image/png": "[encoded data removed]",
      "text/plain": [
       "<Figure size 1080x576 with 1 Axes>"
      ]
     },
     "metadata": {},
     "output_type": "display_data"
    }
   ],
   "source": [
    "plt.figure(figsize=(15,8))\n",
    "uswins.plot(x='Year',kind=\"bar\",stacked=True,color=['brown',\"gold\",'silver'])"
   ]
  },
  {
   "cell_type": "markdown",
   "id": "bb364c58",
   "metadata": {},
   "source": [
    "___\n",
    "### Task Question 2 - The Most Decorated Athlete\n",
    "**Alas,Swimming wasn't in the set of sports I recieved so the answer isn't Phelps. Since this is purely a winners dataset, finding the person with the most number of medals would be enough. Gold,Silver and Bronze are not distinctly valued here, its just a numerical maximum.**"
   ]
  },
  {
   "cell_type": "code",
   "execution_count": 511,
   "id": "1170d266",
   "metadata": {},
   "outputs": [
    {
     "data": {
      "text/plain": [
       "Wang Nan              5\n",
       "Wang Hao              5\n",
       "Zhang Jike            4\n",
       "Yu Nam-Gyu            4\n",
       "Dimitrij Ovtcharov    4\n",
       "Liu Guoliang          4\n",
       "Deng Yaping           4\n",
       "Guo Yue               4\n",
       "Zhang Yining          4\n",
       "Li Xiaoxia            4\n",
       "Name: Name, dtype: int64"
      ]
     },
     "execution_count": 511,
     "metadata": {},
     "output_type": "execute_result"
    }
   ],
   "source": [
    "data.Name.value_counts().head(10)"
   ]
  },
  {
   "cell_type": "markdown",
   "id": "fd3c0922",
   "metadata": {},
   "source": [
    "**Since we have two athletes with the same number of medals, I'm going to see which one has medals of higher value. i.e, gold > silver > bronze**"
   ]
  },
  {
   "cell_type": "code",
   "execution_count": 512,
   "id": "3d06ed0d",
   "metadata": {},
   "outputs": [
    {
     "name": "stdout",
     "output_type": "stream",
     "text": [
      "Nan  :\n",
      " Gold      4\n",
      "Silver    1\n",
      "Name: Medal, dtype: int64\n",
      "Wang: \n",
      " Silver    3\n",
      "Gold      2\n",
      "Name: Medal, dtype: int64\n"
     ]
    }
   ],
   "source": [
    "nan = data[data['Name'] == \"Wang Nan\" ]\n",
    "wang = data[data['Name'] == \"Wang Hao\" ]\n",
    "print(\"Nan  :\\n\",nan.Medal.value_counts())\n",
    "print(\"Wang: \\n\",wang.Medal.value_counts())\n"
   ]
  },
  {
   "cell_type": "markdown",
   "id": "231d5457",
   "metadata": {},
   "source": [
    "**And there you have it,with 4 Gold medals and 1 Silver Medal ,Wang Nan is the most successful olympian in this dataset.**"
   ]
  }
 ],
 "metadata": {
  "kernelspec": {
   "display_name": "Python 3",
   "language": "python",
   "name": "python3"
  },
  "language_info": {
   "codemirror_mode": {
    "name": "ipython",
    "version": 3
   },
   "file_extension": ".py",
   "mimetype": "text/x-python",
   "name": "python",
   "nbconvert_exporter": "python",
   "pygments_lexer": "ipython3",
   "version": "3.8.8"
  }
 },
 "nbformat": 4,
 "nbformat_minor": 5
}
