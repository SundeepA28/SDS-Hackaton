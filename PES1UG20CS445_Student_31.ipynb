{
  "nbformat": 4,
  "nbformat_minor": 0,
  "metadata": {
    "colab": {
      "name": "PES1UG20CS445_Student_31.ipynb",
      "provenance": [],
      "collapsed_sections": []
    },
    "kernelspec": {
      "name": "python3",
      "display_name": "Python 3"
    },
    "language_info": {
      "name": "python"
    }
  },
  "cells": [
    {
      "cell_type": "markdown",
      "metadata": {
        "id": "MldD8xS1gpsT"
      },
      "source": [
        "SRN: PES1UG20CS445\n",
        "Name:SUNDEEP A\n",
        "ASSIGNMENT ID: Student_31"
      ]
    },
    {
      "cell_type": "code",
      "metadata": {
        "id": "BlPPDCp7uanU"
      },
      "source": [
        "import pandas as pd\n",
        "import numpy as np"
      ],
      "execution_count": 176,
      "outputs": []
    },
    {
      "cell_type": "code",
      "metadata": {
        "colab": {
          "base_uri": "https://localhost:8080/",
          "height": 164
        },
        "id": "pL5buO1Vvi2w",
        "outputId": "50679fbb-e865-4749-9dee-293476d1b5b1"
      },
      "source": [
        "df=pd.read_csv(\"/content/31.csv\")#reading the file\n",
        "df.head(2)#printing the first two fields to refer to the data"
      ],
      "execution_count": 177,
      "outputs": [
        {
          "output_type": "execute_result",
          "data": {
            "text/html": [
              "<div>\n",
              "<style scoped>\n",
              "    .dataframe tbody tr th:only-of-type {\n",
              "        vertical-align: middle;\n",
              "    }\n",
              "\n",
              "    .dataframe tbody tr th {\n",
              "        vertical-align: top;\n",
              "    }\n",
              "\n",
              "    .dataframe thead th {\n",
              "        text-align: right;\n",
              "    }\n",
              "</style>\n",
              "<table border=\"1\" class=\"dataframe\">\n",
              "  <thead>\n",
              "    <tr style=\"text-align: right;\">\n",
              "      <th></th>\n",
              "      <th>gender</th>\n",
              "      <th>race</th>\n",
              "      <th>parental level of education</th>\n",
              "      <th>lunch</th>\n",
              "      <th>test preparation course</th>\n",
              "      <th>math score</th>\n",
              "      <th>reading score</th>\n",
              "      <th>writing score</th>\n",
              "    </tr>\n",
              "  </thead>\n",
              "  <tbody>\n",
              "    <tr>\n",
              "      <th>0</th>\n",
              "      <td>female</td>\n",
              "      <td>group B</td>\n",
              "      <td>bachelor's degree</td>\n",
              "      <td>standard</td>\n",
              "      <td>none</td>\n",
              "      <td>98.0</td>\n",
              "      <td>97.0</td>\n",
              "      <td>88.0</td>\n",
              "    </tr>\n",
              "    <tr>\n",
              "      <th>1</th>\n",
              "      <td>male</td>\n",
              "      <td>group E</td>\n",
              "      <td>high school</td>\n",
              "      <td>free/reduced</td>\n",
              "      <td>none</td>\n",
              "      <td>95.0</td>\n",
              "      <td>115.0</td>\n",
              "      <td>102.0</td>\n",
              "    </tr>\n",
              "  </tbody>\n",
              "</table>\n",
              "</div>"
            ],
            "text/plain": [
              "   gender     race  ... reading score writing score\n",
              "0  female  group B  ...          97.0          88.0\n",
              "1    male  group E  ...         115.0         102.0\n",
              "\n",
              "[2 rows x 8 columns]"
            ]
          },
          "metadata": {},
          "execution_count": 177
        }
      ]
    },
    {
      "cell_type": "code",
      "metadata": {
        "colab": {
          "base_uri": "https://localhost:8080/"
        },
        "id": "pC4QQXloCKia",
        "outputId": "0c779644-fd7b-4237-eb24-775b22e92bb1"
      },
      "source": [
        "df.info()#so math has 6 null values,reading has 4 null values,writing has 5 null values"
      ],
      "execution_count": 178,
      "outputs": [
        {
          "output_type": "stream",
          "name": "stdout",
          "text": [
            "<class 'pandas.core.frame.DataFrame'>\n",
            "RangeIndex: 1000 entries, 0 to 999\n",
            "Data columns (total 8 columns):\n",
            " #   Column                       Non-Null Count  Dtype  \n",
            "---  ------                       --------------  -----  \n",
            " 0   gender                       1000 non-null   object \n",
            " 1   race                         1000 non-null   object \n",
            " 2   parental level of education  998 non-null    object \n",
            " 3   lunch                        1000 non-null   object \n",
            " 4   test preparation course      1000 non-null   object \n",
            " 5   math score                   994 non-null    float64\n",
            " 6   reading score                996 non-null    float64\n",
            " 7   writing score                995 non-null    float64\n",
            "dtypes: float64(3), object(5)\n",
            "memory usage: 62.6+ KB\n"
          ]
        }
      ]
    },
    {
      "cell_type": "code",
      "metadata": {
        "id": "6chDBzuYw25_"
      },
      "source": [
        "df['math score'] = df['math score'].fillna(df['math score'].mean())#replacing null values in math with its mean\n",
        "df['reading score'] = df['reading score'].fillna(df['reading score'].mean())#replacing null values in reading with its mean\n",
        "df['writing score'] = df['writing score'].fillna(df['writing score'].mean())#replacing null values in writing with its mean"
      ],
      "execution_count": 179,
      "outputs": []
    },
    {
      "cell_type": "code",
      "metadata": {
        "colab": {
          "base_uri": "https://localhost:8080/"
        },
        "id": "WXmgmW-ww827",
        "outputId": "7ab6503b-5a11-48a2-af85-f6263f8ac3ac"
      },
      "source": [
        "df.info()#all the null values have been replaced\n"
      ],
      "execution_count": 180,
      "outputs": [
        {
          "output_type": "stream",
          "name": "stdout",
          "text": [
            "<class 'pandas.core.frame.DataFrame'>\n",
            "RangeIndex: 1000 entries, 0 to 999\n",
            "Data columns (total 8 columns):\n",
            " #   Column                       Non-Null Count  Dtype  \n",
            "---  ------                       --------------  -----  \n",
            " 0   gender                       1000 non-null   object \n",
            " 1   race                         1000 non-null   object \n",
            " 2   parental level of education  998 non-null    object \n",
            " 3   lunch                        1000 non-null   object \n",
            " 4   test preparation course      1000 non-null   object \n",
            " 5   math score                   1000 non-null   float64\n",
            " 6   reading score                1000 non-null   float64\n",
            " 7   writing score                1000 non-null   float64\n",
            "dtypes: float64(3), object(5)\n",
            "memory usage: 62.6+ KB\n"
          ]
        }
      ]
    },
    {
      "cell_type": "code",
      "metadata": {
        "colab": {
          "base_uri": "https://localhost:8080/"
        },
        "id": "HiyYFXqb4puJ",
        "outputId": "48963b57-685b-4785-9877-a31643decc26"
      },
      "source": [
        "df = df.dropna(subset=['parental level of education'], how='any')#removing teh rows whose categorical data is NAN\n",
        "df.info()#2 rows have been deleted"
      ],
      "execution_count": 181,
      "outputs": [
        {
          "output_type": "stream",
          "name": "stdout",
          "text": [
            "<class 'pandas.core.frame.DataFrame'>\n",
            "Int64Index: 998 entries, 0 to 999\n",
            "Data columns (total 8 columns):\n",
            " #   Column                       Non-Null Count  Dtype  \n",
            "---  ------                       --------------  -----  \n",
            " 0   gender                       998 non-null    object \n",
            " 1   race                         998 non-null    object \n",
            " 2   parental level of education  998 non-null    object \n",
            " 3   lunch                        998 non-null    object \n",
            " 4   test preparation course      998 non-null    object \n",
            " 5   math score                   998 non-null    float64\n",
            " 6   reading score                998 non-null    float64\n",
            " 7   writing score                998 non-null    float64\n",
            "dtypes: float64(3), object(5)\n",
            "memory usage: 70.2+ KB\n"
          ]
        }
      ]
    },
    {
      "cell_type": "code",
      "metadata": {
        "id": "t1hIyxzqPWaX"
      },
      "source": [
        "df['math score']=df['math score']-min(df['math score'])#getting math score within 100\n",
        "df['reading score']=df['reading score']-min(df['reading score'])#getting reading score within 100\n",
        "df['writing score']=df['writing score']-min(df['reading score'])#getting writing score within 100\n"
      ],
      "execution_count": 182,
      "outputs": []
    },
    {
      "cell_type": "code",
      "metadata": {
        "colab": {
          "base_uri": "https://localhost:8080/",
          "height": 631
        },
        "id": "cE1uiV7T37fp",
        "outputId": "cba8c115-44b3-46b8-b0dd-589263d7dff7"
      },
      "source": [
        "df['percentage'] = (df['math score']+df['reading score']+df['writing score'])/3#storing percentage\n",
        "df"
      ],
      "execution_count": 183,
      "outputs": [
        {
          "output_type": "execute_result",
          "data": {
            "text/html": [
              "<div>\n",
              "<style scoped>\n",
              "    .dataframe tbody tr th:only-of-type {\n",
              "        vertical-align: middle;\n",
              "    }\n",
              "\n",
              "    .dataframe tbody tr th {\n",
              "        vertical-align: top;\n",
              "    }\n",
              "\n",
              "    .dataframe thead th {\n",
              "        text-align: right;\n",
              "    }\n",
              "</style>\n",
              "<table border=\"1\" class=\"dataframe\">\n",
              "  <thead>\n",
              "    <tr style=\"text-align: right;\">\n",
              "      <th></th>\n",
              "      <th>gender</th>\n",
              "      <th>race</th>\n",
              "      <th>parental level of education</th>\n",
              "      <th>lunch</th>\n",
              "      <th>test preparation course</th>\n",
              "      <th>math score</th>\n",
              "      <th>reading score</th>\n",
              "      <th>writing score</th>\n",
              "      <th>percentage</th>\n",
              "    </tr>\n",
              "  </thead>\n",
              "  <tbody>\n",
              "    <tr>\n",
              "      <th>0</th>\n",
              "      <td>female</td>\n",
              "      <td>group B</td>\n",
              "      <td>bachelor's degree</td>\n",
              "      <td>standard</td>\n",
              "      <td>none</td>\n",
              "      <td>77.0</td>\n",
              "      <td>76.0</td>\n",
              "      <td>88.0</td>\n",
              "      <td>80.333333</td>\n",
              "    </tr>\n",
              "    <tr>\n",
              "      <th>1</th>\n",
              "      <td>male</td>\n",
              "      <td>group E</td>\n",
              "      <td>high school</td>\n",
              "      <td>free/reduced</td>\n",
              "      <td>none</td>\n",
              "      <td>74.0</td>\n",
              "      <td>94.0</td>\n",
              "      <td>102.0</td>\n",
              "      <td>90.000000</td>\n",
              "    </tr>\n",
              "    <tr>\n",
              "      <th>2</th>\n",
              "      <td>male</td>\n",
              "      <td>group C</td>\n",
              "      <td>associate's degree</td>\n",
              "      <td>free/reduced</td>\n",
              "      <td>none</td>\n",
              "      <td>95.0</td>\n",
              "      <td>94.0</td>\n",
              "      <td>107.0</td>\n",
              "      <td>98.666667</td>\n",
              "    </tr>\n",
              "    <tr>\n",
              "      <th>3</th>\n",
              "      <td>female</td>\n",
              "      <td>group A</td>\n",
              "      <td>master's degree</td>\n",
              "      <td>free/reduced</td>\n",
              "      <td>none</td>\n",
              "      <td>52.0</td>\n",
              "      <td>61.0</td>\n",
              "      <td>27.0</td>\n",
              "      <td>46.666667</td>\n",
              "    </tr>\n",
              "    <tr>\n",
              "      <th>4</th>\n",
              "      <td>male</td>\n",
              "      <td>group B</td>\n",
              "      <td>high school</td>\n",
              "      <td>free/reduced</td>\n",
              "      <td>none</td>\n",
              "      <td>81.0</td>\n",
              "      <td>82.0</td>\n",
              "      <td>89.0</td>\n",
              "      <td>84.000000</td>\n",
              "    </tr>\n",
              "    <tr>\n",
              "      <th>...</th>\n",
              "      <td>...</td>\n",
              "      <td>...</td>\n",
              "      <td>...</td>\n",
              "      <td>...</td>\n",
              "      <td>...</td>\n",
              "      <td>...</td>\n",
              "      <td>...</td>\n",
              "      <td>...</td>\n",
              "      <td>...</td>\n",
              "    </tr>\n",
              "    <tr>\n",
              "      <th>995</th>\n",
              "      <td>female</td>\n",
              "      <td>group A</td>\n",
              "      <td>high school</td>\n",
              "      <td>free/reduced</td>\n",
              "      <td>completed</td>\n",
              "      <td>93.0</td>\n",
              "      <td>98.0</td>\n",
              "      <td>109.0</td>\n",
              "      <td>100.000000</td>\n",
              "    </tr>\n",
              "    <tr>\n",
              "      <th>996</th>\n",
              "      <td>male</td>\n",
              "      <td>group D</td>\n",
              "      <td>high school</td>\n",
              "      <td>free/reduced</td>\n",
              "      <td>none</td>\n",
              "      <td>67.0</td>\n",
              "      <td>59.0</td>\n",
              "      <td>69.0</td>\n",
              "      <td>65.000000</td>\n",
              "    </tr>\n",
              "    <tr>\n",
              "      <th>997</th>\n",
              "      <td>male</td>\n",
              "      <td>group C</td>\n",
              "      <td>some high school</td>\n",
              "      <td>free/reduced</td>\n",
              "      <td>none</td>\n",
              "      <td>64.0</td>\n",
              "      <td>75.0</td>\n",
              "      <td>79.0</td>\n",
              "      <td>72.666667</td>\n",
              "    </tr>\n",
              "    <tr>\n",
              "      <th>998</th>\n",
              "      <td>male</td>\n",
              "      <td>group A</td>\n",
              "      <td>high school</td>\n",
              "      <td>free/reduced</td>\n",
              "      <td>completed</td>\n",
              "      <td>51.0</td>\n",
              "      <td>82.0</td>\n",
              "      <td>91.0</td>\n",
              "      <td>74.666667</td>\n",
              "    </tr>\n",
              "    <tr>\n",
              "      <th>999</th>\n",
              "      <td>male</td>\n",
              "      <td>group D</td>\n",
              "      <td>master's degree</td>\n",
              "      <td>free/reduced</td>\n",
              "      <td>none</td>\n",
              "      <td>82.0</td>\n",
              "      <td>90.0</td>\n",
              "      <td>100.0</td>\n",
              "      <td>90.666667</td>\n",
              "    </tr>\n",
              "  </tbody>\n",
              "</table>\n",
              "<p>998 rows × 9 columns</p>\n",
              "</div>"
            ],
            "text/plain": [
              "     gender     race  ... writing score  percentage\n",
              "0    female  group B  ...          88.0   80.333333\n",
              "1      male  group E  ...         102.0   90.000000\n",
              "2      male  group C  ...         107.0   98.666667\n",
              "3    female  group A  ...          27.0   46.666667\n",
              "4      male  group B  ...          89.0   84.000000\n",
              "..      ...      ...  ...           ...         ...\n",
              "995  female  group A  ...         109.0  100.000000\n",
              "996    male  group D  ...          69.0   65.000000\n",
              "997    male  group C  ...          79.0   72.666667\n",
              "998    male  group A  ...          91.0   74.666667\n",
              "999    male  group D  ...         100.0   90.666667\n",
              "\n",
              "[998 rows x 9 columns]"
            ]
          },
          "metadata": {},
          "execution_count": 183
        }
      ]
    },
    {
      "cell_type": "code",
      "metadata": {
        "colab": {
          "base_uri": "https://localhost:8080/"
        },
        "id": "SGI-zAfl3o6S",
        "outputId": "849bef6c-af97-498a-ceac-29516a550ec3"
      },
      "source": [
        "df['Grades'] = df.apply(lambda x : 'F' if x['percentage']<40 else ('D' if x['percentage']>=40 and x['percentage']<60  else ('C' if x['percentage']>=60 and x['percentage']<70 else ('B' if x['percentage']>=70 and x['percentage']<80  else('A' if x['percentage']>=80 and x['percentage']<90else('S' if x['percentage']>=90 else \"--\"))))),axis=1)\n",
        "df['Grades'].value_counts()"
      ],
      "execution_count": 184,
      "outputs": [
        {
          "output_type": "execute_result",
          "data": {
            "text/plain": [
              "B    272\n",
              "A    209\n",
              "C    191\n",
              "D    159\n",
              "S    148\n",
              "F     19\n",
              "Name: Grades, dtype: int64"
            ]
          },
          "metadata": {},
          "execution_count": 184
        }
      ]
    },
    {
      "cell_type": "code",
      "metadata": {
        "colab": {
          "base_uri": "https://localhost:8080/",
          "height": 631
        },
        "id": "wx7X0m4LWSNB",
        "outputId": "7010f996-4414-41d6-8a23-62e58a73e89d"
      },
      "source": [
        "df#so grades column contains grades"
      ],
      "execution_count": 185,
      "outputs": [
        {
          "output_type": "execute_result",
          "data": {
            "text/html": [
              "<div>\n",
              "<style scoped>\n",
              "    .dataframe tbody tr th:only-of-type {\n",
              "        vertical-align: middle;\n",
              "    }\n",
              "\n",
              "    .dataframe tbody tr th {\n",
              "        vertical-align: top;\n",
              "    }\n",
              "\n",
              "    .dataframe thead th {\n",
              "        text-align: right;\n",
              "    }\n",
              "</style>\n",
              "<table border=\"1\" class=\"dataframe\">\n",
              "  <thead>\n",
              "    <tr style=\"text-align: right;\">\n",
              "      <th></th>\n",
              "      <th>gender</th>\n",
              "      <th>race</th>\n",
              "      <th>parental level of education</th>\n",
              "      <th>lunch</th>\n",
              "      <th>test preparation course</th>\n",
              "      <th>math score</th>\n",
              "      <th>reading score</th>\n",
              "      <th>writing score</th>\n",
              "      <th>percentage</th>\n",
              "      <th>Grades</th>\n",
              "    </tr>\n",
              "  </thead>\n",
              "  <tbody>\n",
              "    <tr>\n",
              "      <th>0</th>\n",
              "      <td>female</td>\n",
              "      <td>group B</td>\n",
              "      <td>bachelor's degree</td>\n",
              "      <td>standard</td>\n",
              "      <td>none</td>\n",
              "      <td>77.0</td>\n",
              "      <td>76.0</td>\n",
              "      <td>88.0</td>\n",
              "      <td>80.333333</td>\n",
              "      <td>A</td>\n",
              "    </tr>\n",
              "    <tr>\n",
              "      <th>1</th>\n",
              "      <td>male</td>\n",
              "      <td>group E</td>\n",
              "      <td>high school</td>\n",
              "      <td>free/reduced</td>\n",
              "      <td>none</td>\n",
              "      <td>74.0</td>\n",
              "      <td>94.0</td>\n",
              "      <td>102.0</td>\n",
              "      <td>90.000000</td>\n",
              "      <td>S</td>\n",
              "    </tr>\n",
              "    <tr>\n",
              "      <th>2</th>\n",
              "      <td>male</td>\n",
              "      <td>group C</td>\n",
              "      <td>associate's degree</td>\n",
              "      <td>free/reduced</td>\n",
              "      <td>none</td>\n",
              "      <td>95.0</td>\n",
              "      <td>94.0</td>\n",
              "      <td>107.0</td>\n",
              "      <td>98.666667</td>\n",
              "      <td>S</td>\n",
              "    </tr>\n",
              "    <tr>\n",
              "      <th>3</th>\n",
              "      <td>female</td>\n",
              "      <td>group A</td>\n",
              "      <td>master's degree</td>\n",
              "      <td>free/reduced</td>\n",
              "      <td>none</td>\n",
              "      <td>52.0</td>\n",
              "      <td>61.0</td>\n",
              "      <td>27.0</td>\n",
              "      <td>46.666667</td>\n",
              "      <td>D</td>\n",
              "    </tr>\n",
              "    <tr>\n",
              "      <th>4</th>\n",
              "      <td>male</td>\n",
              "      <td>group B</td>\n",
              "      <td>high school</td>\n",
              "      <td>free/reduced</td>\n",
              "      <td>none</td>\n",
              "      <td>81.0</td>\n",
              "      <td>82.0</td>\n",
              "      <td>89.0</td>\n",
              "      <td>84.000000</td>\n",
              "      <td>A</td>\n",
              "    </tr>\n",
              "    <tr>\n",
              "      <th>...</th>\n",
              "      <td>...</td>\n",
              "      <td>...</td>\n",
              "      <td>...</td>\n",
              "      <td>...</td>\n",
              "      <td>...</td>\n",
              "      <td>...</td>\n",
              "      <td>...</td>\n",
              "      <td>...</td>\n",
              "      <td>...</td>\n",
              "      <td>...</td>\n",
              "    </tr>\n",
              "    <tr>\n",
              "      <th>995</th>\n",
              "      <td>female</td>\n",
              "      <td>group A</td>\n",
              "      <td>high school</td>\n",
              "      <td>free/reduced</td>\n",
              "      <td>completed</td>\n",
              "      <td>93.0</td>\n",
              "      <td>98.0</td>\n",
              "      <td>109.0</td>\n",
              "      <td>100.000000</td>\n",
              "      <td>S</td>\n",
              "    </tr>\n",
              "    <tr>\n",
              "      <th>996</th>\n",
              "      <td>male</td>\n",
              "      <td>group D</td>\n",
              "      <td>high school</td>\n",
              "      <td>free/reduced</td>\n",
              "      <td>none</td>\n",
              "      <td>67.0</td>\n",
              "      <td>59.0</td>\n",
              "      <td>69.0</td>\n",
              "      <td>65.000000</td>\n",
              "      <td>C</td>\n",
              "    </tr>\n",
              "    <tr>\n",
              "      <th>997</th>\n",
              "      <td>male</td>\n",
              "      <td>group C</td>\n",
              "      <td>some high school</td>\n",
              "      <td>free/reduced</td>\n",
              "      <td>none</td>\n",
              "      <td>64.0</td>\n",
              "      <td>75.0</td>\n",
              "      <td>79.0</td>\n",
              "      <td>72.666667</td>\n",
              "      <td>B</td>\n",
              "    </tr>\n",
              "    <tr>\n",
              "      <th>998</th>\n",
              "      <td>male</td>\n",
              "      <td>group A</td>\n",
              "      <td>high school</td>\n",
              "      <td>free/reduced</td>\n",
              "      <td>completed</td>\n",
              "      <td>51.0</td>\n",
              "      <td>82.0</td>\n",
              "      <td>91.0</td>\n",
              "      <td>74.666667</td>\n",
              "      <td>B</td>\n",
              "    </tr>\n",
              "    <tr>\n",
              "      <th>999</th>\n",
              "      <td>male</td>\n",
              "      <td>group D</td>\n",
              "      <td>master's degree</td>\n",
              "      <td>free/reduced</td>\n",
              "      <td>none</td>\n",
              "      <td>82.0</td>\n",
              "      <td>90.0</td>\n",
              "      <td>100.0</td>\n",
              "      <td>90.666667</td>\n",
              "      <td>S</td>\n",
              "    </tr>\n",
              "  </tbody>\n",
              "</table>\n",
              "<p>998 rows × 10 columns</p>\n",
              "</div>"
            ],
            "text/plain": [
              "     gender     race  ...  percentage Grades\n",
              "0    female  group B  ...   80.333333      A\n",
              "1      male  group E  ...   90.000000      S\n",
              "2      male  group C  ...   98.666667      S\n",
              "3    female  group A  ...   46.666667      D\n",
              "4      male  group B  ...   84.000000      A\n",
              "..      ...      ...  ...         ...    ...\n",
              "995  female  group A  ...  100.000000      S\n",
              "996    male  group D  ...   65.000000      C\n",
              "997    male  group C  ...   72.666667      B\n",
              "998    male  group A  ...   74.666667      B\n",
              "999    male  group D  ...   90.666667      S\n",
              "\n",
              "[998 rows x 10 columns]"
            ]
          },
          "metadata": {},
          "execution_count": 185
        }
      ]
    },
    {
      "cell_type": "code",
      "metadata": {
        "colab": {
          "base_uri": "https://localhost:8080/",
          "height": 535
        },
        "id": "xkJ8LcygTbMf",
        "outputId": "71fd9066-ea9c-4319-a71c-457b236c5b2d"
      },
      "source": [
        "df['reading score'].plot(kind='hist',bins=7)\n",
        "plt.xlabel(\"Marks Distribution\")\n",
        "plt.ylabel(\"Frequency\")\n"
      ],
      "execution_count": 186,
      "outputs": [
        {
          "output_type": "execute_result",
          "data": {
            "text/plain": [
              "Text(0, 0.5, 'Frequency')"
            ]
          },
          "metadata": {},
          "execution_count": 186
        },
        {
          "output_type": "display_data",
          "data": {
            "image/png": "[encoded data removed]",
            "text/plain": [
              "<Figure size 842.4x595.44 with 1 Axes>"
            ]
          },
          "metadata": {}
        }
      ]
    },
    {
      "cell_type": "markdown",
      "metadata": {
        "id": "DfKSbjGMjCvc"
      },
      "source": [
        "Histogram is used to visualize the reading score\n",
        "Histogram:  Explained in PDF"
      ]
    },
    {
      "cell_type": "code",
      "metadata": {
        "colab": {
          "base_uri": "https://localhost:8080/",
          "height": 423
        },
        "id": "y-orUTgC8V7z",
        "outputId": "21c96bf2-6c49-4d49-a2ed-84fede69c6f3"
      },
      "source": [
        "dp=pd.DataFrame()\n",
        "dp[\"parental level of education\"]=df[\"parental level of education\"]\n",
        "dp[\"percentage\"]=df[\"percentage\"]\n",
        "dp[\"gender\"]=df[\"gender\"]\n",
        "dp#creating new dataframe and storing only parental level ,percentage,gender"
      ],
      "execution_count": 187,
      "outputs": [
        {
          "output_type": "execute_result",
          "data": {
            "text/html": [
              "<div>\n",
              "<style scoped>\n",
              "    .dataframe tbody tr th:only-of-type {\n",
              "        vertical-align: middle;\n",
              "    }\n",
              "\n",
              "    .dataframe tbody tr th {\n",
              "        vertical-align: top;\n",
              "    }\n",
              "\n",
              "    .dataframe thead th {\n",
              "        text-align: right;\n",
              "    }\n",
              "</style>\n",
              "<table border=\"1\" class=\"dataframe\">\n",
              "  <thead>\n",
              "    <tr style=\"text-align: right;\">\n",
              "      <th></th>\n",
              "      <th>parental level of education</th>\n",
              "      <th>percentage</th>\n",
              "      <th>gender</th>\n",
              "    </tr>\n",
              "  </thead>\n",
              "  <tbody>\n",
              "    <tr>\n",
              "      <th>0</th>\n",
              "      <td>bachelor's degree</td>\n",
              "      <td>80.333333</td>\n",
              "      <td>female</td>\n",
              "    </tr>\n",
              "    <tr>\n",
              "      <th>1</th>\n",
              "      <td>high school</td>\n",
              "      <td>90.000000</td>\n",
              "      <td>male</td>\n",
              "    </tr>\n",
              "    <tr>\n",
              "      <th>2</th>\n",
              "      <td>associate's degree</td>\n",
              "      <td>98.666667</td>\n",
              "      <td>male</td>\n",
              "    </tr>\n",
              "    <tr>\n",
              "      <th>3</th>\n",
              "      <td>master's degree</td>\n",
              "      <td>46.666667</td>\n",
              "      <td>female</td>\n",
              "    </tr>\n",
              "    <tr>\n",
              "      <th>4</th>\n",
              "      <td>high school</td>\n",
              "      <td>84.000000</td>\n",
              "      <td>male</td>\n",
              "    </tr>\n",
              "    <tr>\n",
              "      <th>...</th>\n",
              "      <td>...</td>\n",
              "      <td>...</td>\n",
              "      <td>...</td>\n",
              "    </tr>\n",
              "    <tr>\n",
              "      <th>995</th>\n",
              "      <td>high school</td>\n",
              "      <td>100.000000</td>\n",
              "      <td>female</td>\n",
              "    </tr>\n",
              "    <tr>\n",
              "      <th>996</th>\n",
              "      <td>high school</td>\n",
              "      <td>65.000000</td>\n",
              "      <td>male</td>\n",
              "    </tr>\n",
              "    <tr>\n",
              "      <th>997</th>\n",
              "      <td>some high school</td>\n",
              "      <td>72.666667</td>\n",
              "      <td>male</td>\n",
              "    </tr>\n",
              "    <tr>\n",
              "      <th>998</th>\n",
              "      <td>high school</td>\n",
              "      <td>74.666667</td>\n",
              "      <td>male</td>\n",
              "    </tr>\n",
              "    <tr>\n",
              "      <th>999</th>\n",
              "      <td>master's degree</td>\n",
              "      <td>90.666667</td>\n",
              "      <td>male</td>\n",
              "    </tr>\n",
              "  </tbody>\n",
              "</table>\n",
              "<p>998 rows × 3 columns</p>\n",
              "</div>"
            ],
            "text/plain": [
              "    parental level of education  percentage  gender\n",
              "0             bachelor's degree   80.333333  female\n",
              "1                   high school   90.000000    male\n",
              "2            associate's degree   98.666667    male\n",
              "3               master's degree   46.666667  female\n",
              "4                   high school   84.000000    male\n",
              "..                          ...         ...     ...\n",
              "995                 high school  100.000000  female\n",
              "996                 high school   65.000000    male\n",
              "997            some high school   72.666667    male\n",
              "998                 high school   74.666667    male\n",
              "999             master's degree   90.666667    male\n",
              "\n",
              "[998 rows x 3 columns]"
            ]
          },
          "metadata": {},
          "execution_count": 187
        }
      ]
    },
    {
      "cell_type": "code",
      "metadata": {
        "id": "9OSPO_Y4FHv4"
      },
      "source": [
        "import seaborn as sns\n"
      ],
      "execution_count": 188,
      "outputs": []
    },
    {
      "cell_type": "code",
      "metadata": {
        "colab": {
          "base_uri": "https://localhost:8080/",
          "height": 437
        },
        "id": "dFgEtWfRKV4S",
        "outputId": "cc1cb74e-63ce-4b71-f2a3-19185e072aa1"
      },
      "source": [
        "\n",
        "sns.factorplot(x=\"parental level of education\",y=\"percentage\",hue=\"gender\",data=dp,kind=\"bar\")\n",
        "#creating graph percentage along y-axis,parential  level along x-axis,separated by gender"
      ],
      "execution_count": 189,
      "outputs": [
        {
          "output_type": "stream",
          "name": "stderr",
          "text": [
            "/usr/local/lib/python3.7/dist-packages/seaborn/categorical.py:3717: UserWarning: The `factorplot` function has been renamed to `catplot`. The original name will be removed in a future release. Please update your code. Note that the default `kind` in `factorplot` (`'point'`) has changed `'strip'` in `catplot`.\n",
            "  warnings.warn(msg)\n"
          ]
        },
        {
          "output_type": "execute_result",
          "data": {
            "text/plain": [
              "<seaborn.axisgrid.FacetGrid at 0x7f14200dd610>"
            ]
          },
          "metadata": {},
          "execution_count": 189
        },
        {
          "output_type": "display_data",
          "data": {
            "image/png": "[encoded data removed]",
            "text/plain": [
              "<Figure size 437.975x360 with 1 Axes>"
            ]
          },
          "metadata": {}
        }
      ]
    },
    {
      "cell_type": "markdown",
      "metadata": {
        "id": "GazeUIMsRQoT"
      },
      "source": [
        "Task Questions"
      ]
    },
    {
      "cell_type": "markdown",
      "metadata": {
        "id": "kAM0bUSmTkWe"
      },
      "source": [
        "1.a)"
      ]
    },
    {
      "cell_type": "code",
      "metadata": {
        "colab": {
          "base_uri": "https://localhost:8080/",
          "height": 631
        },
        "id": "YiHt7ZVJKhRw",
        "outputId": "1acda1db-960f-4447-aea5-838a0a9b84fb"
      },
      "source": [
        "srs=df.sample(n=100)\n",
        "srs#creating simple random sample"
      ],
      "execution_count": 190,
      "outputs": [
        {
          "output_type": "execute_result",
          "data": {
            "text/html": [
              "<div>\n",
              "<style scoped>\n",
              "    .dataframe tbody tr th:only-of-type {\n",
              "        vertical-align: middle;\n",
              "    }\n",
              "\n",
              "    .dataframe tbody tr th {\n",
              "        vertical-align: top;\n",
              "    }\n",
              "\n",
              "    .dataframe thead th {\n",
              "        text-align: right;\n",
              "    }\n",
              "</style>\n",
              "<table border=\"1\" class=\"dataframe\">\n",
              "  <thead>\n",
              "    <tr style=\"text-align: right;\">\n",
              "      <th></th>\n",
              "      <th>gender</th>\n",
              "      <th>race</th>\n",
              "      <th>parental level of education</th>\n",
              "      <th>lunch</th>\n",
              "      <th>test preparation course</th>\n",
              "      <th>math score</th>\n",
              "      <th>reading score</th>\n",
              "      <th>writing score</th>\n",
              "      <th>percentage</th>\n",
              "      <th>Grades</th>\n",
              "    </tr>\n",
              "  </thead>\n",
              "  <tbody>\n",
              "    <tr>\n",
              "      <th>335</th>\n",
              "      <td>male</td>\n",
              "      <td>group A</td>\n",
              "      <td>high school</td>\n",
              "      <td>free/reduced</td>\n",
              "      <td>none</td>\n",
              "      <td>66.000000</td>\n",
              "      <td>72.0</td>\n",
              "      <td>80.0</td>\n",
              "      <td>72.666667</td>\n",
              "      <td>B</td>\n",
              "    </tr>\n",
              "    <tr>\n",
              "      <th>729</th>\n",
              "      <td>male</td>\n",
              "      <td>group A</td>\n",
              "      <td>high school</td>\n",
              "      <td>standard</td>\n",
              "      <td>completed</td>\n",
              "      <td>58.000000</td>\n",
              "      <td>43.0</td>\n",
              "      <td>92.0</td>\n",
              "      <td>64.333333</td>\n",
              "      <td>C</td>\n",
              "    </tr>\n",
              "    <tr>\n",
              "      <th>580</th>\n",
              "      <td>male</td>\n",
              "      <td>group B</td>\n",
              "      <td>some high school</td>\n",
              "      <td>free/reduced</td>\n",
              "      <td>completed</td>\n",
              "      <td>86.000000</td>\n",
              "      <td>96.0</td>\n",
              "      <td>113.0</td>\n",
              "      <td>98.333333</td>\n",
              "      <td>S</td>\n",
              "    </tr>\n",
              "    <tr>\n",
              "      <th>389</th>\n",
              "      <td>male</td>\n",
              "      <td>group E</td>\n",
              "      <td>high school</td>\n",
              "      <td>free/reduced</td>\n",
              "      <td>none</td>\n",
              "      <td>78.000000</td>\n",
              "      <td>74.0</td>\n",
              "      <td>89.0</td>\n",
              "      <td>80.333333</td>\n",
              "      <td>A</td>\n",
              "    </tr>\n",
              "    <tr>\n",
              "      <th>735</th>\n",
              "      <td>male</td>\n",
              "      <td>group B</td>\n",
              "      <td>associate's degree</td>\n",
              "      <td>free/reduced</td>\n",
              "      <td>none</td>\n",
              "      <td>72.000000</td>\n",
              "      <td>61.0</td>\n",
              "      <td>73.0</td>\n",
              "      <td>68.666667</td>\n",
              "      <td>C</td>\n",
              "    </tr>\n",
              "    <tr>\n",
              "      <th>...</th>\n",
              "      <td>...</td>\n",
              "      <td>...</td>\n",
              "      <td>...</td>\n",
              "      <td>...</td>\n",
              "      <td>...</td>\n",
              "      <td>...</td>\n",
              "      <td>...</td>\n",
              "      <td>...</td>\n",
              "      <td>...</td>\n",
              "      <td>...</td>\n",
              "    </tr>\n",
              "    <tr>\n",
              "      <th>760</th>\n",
              "      <td>female</td>\n",
              "      <td>group E</td>\n",
              "      <td>high school</td>\n",
              "      <td>free/reduced</td>\n",
              "      <td>completed</td>\n",
              "      <td>58.000000</td>\n",
              "      <td>76.0</td>\n",
              "      <td>78.0</td>\n",
              "      <td>70.666667</td>\n",
              "      <td>B</td>\n",
              "    </tr>\n",
              "    <tr>\n",
              "      <th>717</th>\n",
              "      <td>male</td>\n",
              "      <td>group D</td>\n",
              "      <td>high school</td>\n",
              "      <td>free/reduced</td>\n",
              "      <td>completed</td>\n",
              "      <td>95.000000</td>\n",
              "      <td>95.0</td>\n",
              "      <td>113.0</td>\n",
              "      <td>101.000000</td>\n",
              "      <td>S</td>\n",
              "    </tr>\n",
              "    <tr>\n",
              "      <th>168</th>\n",
              "      <td>male</td>\n",
              "      <td>group E</td>\n",
              "      <td>associate's degree</td>\n",
              "      <td>free/reduced</td>\n",
              "      <td>completed</td>\n",
              "      <td>73.000000</td>\n",
              "      <td>87.0</td>\n",
              "      <td>92.0</td>\n",
              "      <td>84.000000</td>\n",
              "      <td>A</td>\n",
              "    </tr>\n",
              "    <tr>\n",
              "      <th>405</th>\n",
              "      <td>female</td>\n",
              "      <td>group E</td>\n",
              "      <td>master's degree</td>\n",
              "      <td>free/reduced</td>\n",
              "      <td>none</td>\n",
              "      <td>68.000000</td>\n",
              "      <td>77.0</td>\n",
              "      <td>82.0</td>\n",
              "      <td>75.666667</td>\n",
              "      <td>B</td>\n",
              "    </tr>\n",
              "    <tr>\n",
              "      <th>172</th>\n",
              "      <td>female</td>\n",
              "      <td>group A</td>\n",
              "      <td>high school</td>\n",
              "      <td>free/reduced</td>\n",
              "      <td>none</td>\n",
              "      <td>69.067404</td>\n",
              "      <td>90.0</td>\n",
              "      <td>95.0</td>\n",
              "      <td>84.689135</td>\n",
              "      <td>A</td>\n",
              "    </tr>\n",
              "  </tbody>\n",
              "</table>\n",
              "<p>100 rows × 10 columns</p>\n",
              "</div>"
            ],
            "text/plain": [
              "     gender     race  ...  percentage Grades\n",
              "335    male  group A  ...   72.666667      B\n",
              "729    male  group A  ...   64.333333      C\n",
              "580    male  group B  ...   98.333333      S\n",
              "389    male  group E  ...   80.333333      A\n",
              "735    male  group B  ...   68.666667      C\n",
              "..      ...      ...  ...         ...    ...\n",
              "760  female  group E  ...   70.666667      B\n",
              "717    male  group D  ...  101.000000      S\n",
              "168    male  group E  ...   84.000000      A\n",
              "405  female  group E  ...   75.666667      B\n",
              "172  female  group A  ...   84.689135      A\n",
              "\n",
              "[100 rows x 10 columns]"
            ]
          },
          "metadata": {},
          "execution_count": 190
        }
      ]
    },
    {
      "cell_type": "markdown",
      "metadata": {
        "id": "It1KfA9ET6MW"
      },
      "source": [
        "1.b)"
      ]
    },
    {
      "cell_type": "code",
      "metadata": {
        "colab": {
          "base_uri": "https://localhost:8080/",
          "height": 631
        },
        "id": "6gsDFZ8fTpqp",
        "outputId": "382e5772-203e-46e6-c70a-d6e452763d52"
      },
      "source": [
        "strati=df.groupby('race', group_keys=False).apply(lambda x: x.sample(20))\n",
        "strati#creating stratified random sampling of size 100,race is used as strata"
      ],
      "execution_count": 191,
      "outputs": [
        {
          "output_type": "execute_result",
          "data": {
            "text/html": [
              "<div>\n",
              "<style scoped>\n",
              "    .dataframe tbody tr th:only-of-type {\n",
              "        vertical-align: middle;\n",
              "    }\n",
              "\n",
              "    .dataframe tbody tr th {\n",
              "        vertical-align: top;\n",
              "    }\n",
              "\n",
              "    .dataframe thead th {\n",
              "        text-align: right;\n",
              "    }\n",
              "</style>\n",
              "<table border=\"1\" class=\"dataframe\">\n",
              "  <thead>\n",
              "    <tr style=\"text-align: right;\">\n",
              "      <th></th>\n",
              "      <th>gender</th>\n",
              "      <th>race</th>\n",
              "      <th>parental level of education</th>\n",
              "      <th>lunch</th>\n",
              "      <th>test preparation course</th>\n",
              "      <th>math score</th>\n",
              "      <th>reading score</th>\n",
              "      <th>writing score</th>\n",
              "      <th>percentage</th>\n",
              "      <th>Grades</th>\n",
              "    </tr>\n",
              "  </thead>\n",
              "  <tbody>\n",
              "    <tr>\n",
              "      <th>546</th>\n",
              "      <td>male</td>\n",
              "      <td>group A</td>\n",
              "      <td>associate's degree</td>\n",
              "      <td>free/reduced</td>\n",
              "      <td>none</td>\n",
              "      <td>97.0</td>\n",
              "      <td>99.0</td>\n",
              "      <td>111.0</td>\n",
              "      <td>102.333333</td>\n",
              "      <td>S</td>\n",
              "    </tr>\n",
              "    <tr>\n",
              "      <th>3</th>\n",
              "      <td>female</td>\n",
              "      <td>group A</td>\n",
              "      <td>master's degree</td>\n",
              "      <td>free/reduced</td>\n",
              "      <td>none</td>\n",
              "      <td>52.0</td>\n",
              "      <td>61.0</td>\n",
              "      <td>27.0</td>\n",
              "      <td>46.666667</td>\n",
              "      <td>D</td>\n",
              "    </tr>\n",
              "    <tr>\n",
              "      <th>8</th>\n",
              "      <td>male</td>\n",
              "      <td>group A</td>\n",
              "      <td>some high school</td>\n",
              "      <td>free/reduced</td>\n",
              "      <td>completed</td>\n",
              "      <td>69.0</td>\n",
              "      <td>68.0</td>\n",
              "      <td>81.0</td>\n",
              "      <td>72.666667</td>\n",
              "      <td>B</td>\n",
              "    </tr>\n",
              "    <tr>\n",
              "      <th>447</th>\n",
              "      <td>male</td>\n",
              "      <td>group A</td>\n",
              "      <td>high school</td>\n",
              "      <td>free/reduced</td>\n",
              "      <td>none</td>\n",
              "      <td>91.0</td>\n",
              "      <td>85.0</td>\n",
              "      <td>94.0</td>\n",
              "      <td>90.000000</td>\n",
              "      <td>S</td>\n",
              "    </tr>\n",
              "    <tr>\n",
              "      <th>416</th>\n",
              "      <td>male</td>\n",
              "      <td>group A</td>\n",
              "      <td>high school</td>\n",
              "      <td>free/reduced</td>\n",
              "      <td>completed</td>\n",
              "      <td>76.0</td>\n",
              "      <td>78.0</td>\n",
              "      <td>82.0</td>\n",
              "      <td>78.666667</td>\n",
              "      <td>B</td>\n",
              "    </tr>\n",
              "    <tr>\n",
              "      <th>...</th>\n",
              "      <td>...</td>\n",
              "      <td>...</td>\n",
              "      <td>...</td>\n",
              "      <td>...</td>\n",
              "      <td>...</td>\n",
              "      <td>...</td>\n",
              "      <td>...</td>\n",
              "      <td>...</td>\n",
              "      <td>...</td>\n",
              "      <td>...</td>\n",
              "    </tr>\n",
              "    <tr>\n",
              "      <th>96</th>\n",
              "      <td>male</td>\n",
              "      <td>group E</td>\n",
              "      <td>bachelor's degree</td>\n",
              "      <td>free/reduced</td>\n",
              "      <td>none</td>\n",
              "      <td>70.0</td>\n",
              "      <td>70.0</td>\n",
              "      <td>76.0</td>\n",
              "      <td>72.000000</td>\n",
              "      <td>B</td>\n",
              "    </tr>\n",
              "    <tr>\n",
              "      <th>796</th>\n",
              "      <td>male</td>\n",
              "      <td>group E</td>\n",
              "      <td>some high school</td>\n",
              "      <td>free/reduced</td>\n",
              "      <td>completed</td>\n",
              "      <td>75.0</td>\n",
              "      <td>74.0</td>\n",
              "      <td>84.0</td>\n",
              "      <td>77.666667</td>\n",
              "      <td>B</td>\n",
              "    </tr>\n",
              "    <tr>\n",
              "      <th>492</th>\n",
              "      <td>male</td>\n",
              "      <td>group E</td>\n",
              "      <td>high school</td>\n",
              "      <td>free/reduced</td>\n",
              "      <td>none</td>\n",
              "      <td>88.0</td>\n",
              "      <td>87.0</td>\n",
              "      <td>104.0</td>\n",
              "      <td>93.000000</td>\n",
              "      <td>S</td>\n",
              "    </tr>\n",
              "    <tr>\n",
              "      <th>184</th>\n",
              "      <td>male</td>\n",
              "      <td>group E</td>\n",
              "      <td>master's degree</td>\n",
              "      <td>free/reduced</td>\n",
              "      <td>completed</td>\n",
              "      <td>50.0</td>\n",
              "      <td>56.0</td>\n",
              "      <td>63.0</td>\n",
              "      <td>56.333333</td>\n",
              "      <td>D</td>\n",
              "    </tr>\n",
              "    <tr>\n",
              "      <th>788</th>\n",
              "      <td>male</td>\n",
              "      <td>group E</td>\n",
              "      <td>bachelor's degree</td>\n",
              "      <td>free/reduced</td>\n",
              "      <td>completed</td>\n",
              "      <td>73.0</td>\n",
              "      <td>69.0</td>\n",
              "      <td>75.0</td>\n",
              "      <td>72.333333</td>\n",
              "      <td>B</td>\n",
              "    </tr>\n",
              "  </tbody>\n",
              "</table>\n",
              "<p>100 rows × 10 columns</p>\n",
              "</div>"
            ],
            "text/plain": [
              "     gender     race  ...  percentage Grades\n",
              "546    male  group A  ...  102.333333      S\n",
              "3    female  group A  ...   46.666667      D\n",
              "8      male  group A  ...   72.666667      B\n",
              "447    male  group A  ...   90.000000      S\n",
              "416    male  group A  ...   78.666667      B\n",
              "..      ...      ...  ...         ...    ...\n",
              "96     male  group E  ...   72.000000      B\n",
              "796    male  group E  ...   77.666667      B\n",
              "492    male  group E  ...   93.000000      S\n",
              "184    male  group E  ...   56.333333      D\n",
              "788    male  group E  ...   72.333333      B\n",
              "\n",
              "[100 rows x 10 columns]"
            ]
          },
          "metadata": {},
          "execution_count": 191
        }
      ]
    },
    {
      "cell_type": "markdown",
      "metadata": {
        "id": "R9sLwPSNUOME"
      },
      "source": [
        "1.c)"
      ]
    },
    {
      "cell_type": "code",
      "metadata": {
        "colab": {
          "base_uri": "https://localhost:8080/"
        },
        "id": "_N0XwGW1UPYu",
        "outputId": "cfac523a-3a25-4cc9-d31c-186d94e49037"
      },
      "source": [
        "simple_mean=srs['math score'].mean()\n",
        "strati_mean=strati['math score'].mean()\n",
        "data_mean=df['math score'].mean()\n",
        "print(\"Simple Random Sampling Error =\",abs(data_mean-simple_mean))\n",
        "print(\"Stratified Random Sampling Error =\",abs(data_mean-strati_mean))\n",
        "#error is low in simple random sampling"
      ],
      "execution_count": 192,
      "outputs": [
        {
          "output_type": "stream",
          "name": "stdout",
          "text": [
            "Simple Random Sampling Error = 0.11514191360586779\n",
            "Stratified Random Sampling Error = 1.323509997862942\n"
          ]
        }
      ]
    },
    {
      "cell_type": "markdown",
      "metadata": {
        "id": "4GLWFpekVFG2"
      },
      "source": [
        "1.d)"
      ]
    },
    {
      "cell_type": "code",
      "metadata": {
        "colab": {
          "base_uri": "https://localhost:8080/",
          "height": 1000
        },
        "id": "dY0Q7nqUUIZS",
        "outputId": "f1d95e02-8440-485c-96b0-5b1ed6b5e7f9"
      },
      "source": [
        "srs['race'].hist(histtype='stepfilled',)\n",
        "plt.xlabel('Race')\n",
        "plt.ylabel('Frequency')\n",
        "plt.title('Race distribution simple random')\n",
        "plt.show()\n",
        "strati['race'].hist(histtype='stepfilled',)\n",
        "plt.xlabel('Race')\n",
        "plt.ylabel('Frequency')\n",
        "plt.title('Race distribution stratified random')\n",
        "plt.show()\n",
        "df['race'].hist(histtype='stepfilled')\n",
        "plt.xlabel('race')\n",
        "plt.ylabel('Frequency')\n",
        "plt.title('Race distribution[population dataset]')\n",
        "plt.show()"
      ],
      "execution_count": 193,
      "outputs": [
        {
          "output_type": "display_data",
          "data": {
            "image/png": "[encoded data removed]",
            "text/plain": [
              "<Figure size 842.4x595.44 with 1 Axes>"
            ]
          },
          "metadata": {}
        },
        {
          "output_type": "display_data",
          "data": {
            "image/png": "[encoded data removed]",
            "text/plain": [
              "<Figure size 842.4x595.44 with 1 Axes>"
            ]
          },
          "metadata": {}
        },
        {
          "output_type": "display_data",
          "data": {
            "image/png": "[encoded data removed]",
            "text/plain": [
              "<Figure size 842.4x595.44 with 1 Axes>"
            ]
          },
          "metadata": {}
        }
      ]
    },
    {
      "cell_type": "markdown",
      "metadata": {
        "id": "hhnBA9qDbNW-"
      },
      "source": [
        "Conclusion:\n",
        "simple random sample is more accurate representation of the population dataset because its proportions are similar to that of population dataset\n",
        "\n",
        "but in stratified dataset, it is not accurate representation of the population dataset, because here the sample size of each race is same but it is not the same  in population dataset"
      ]
    },
    {
      "cell_type": "markdown",
      "metadata": {
        "id": "0Y0TieLqb53j"
      },
      "source": [
        "2)"
      ]
    },
    {
      "cell_type": "code",
      "metadata": {
        "colab": {
          "base_uri": "https://localhost:8080/",
          "height": 1000
        },
        "id": "87b1MUBqVSnw",
        "outputId": "6187588d-b6b7-4914-f934-170f629e3b3c"
      },
      "source": [
        "gam=df[df['race']=='group A']['math score']\n",
        "gbm=df[df['race']=='group B']['math score']\n",
        "gcm=df[df['race']=='group C']['math score']\n",
        "gdm=df[df['race']=='group D']['math score']\n",
        "gem=df[df['race']=='group E']['math score']\n",
        "values=[gam,gbm,gcm,gdm,gem]\n",
        "plt.boxplot(values, vert=False,labels=['group A','group B','group C','group D','group E'])\n",
        "plt.show()\n",
        "gaw=df[df['race']=='group A']['writing score']\n",
        "gbw=df[df['race']=='group B']['writing score']\n",
        "gcw=df[df['race']=='group C']['writing score']\n",
        "gdw=df[df['race']=='group D']['writing score']\n",
        "gew=df[df['race']=='group E']['writing score']\n",
        "values1=[gaw,gbw,gcw,gdw,gew]\n",
        "plt.boxplot(values1, vert=False,labels=['group A','group B','group C','group D','group E'])\n",
        "plt.show()\n",
        "gar=df[df['race']=='group A']['reading score']\n",
        "gbr=df[df['race']=='group B']['reading score']\n",
        "gcr=df[df['race']=='group C']['reading score']\n",
        "gdr=df[df['race']=='group D']['reading score']\n",
        "ger=df[df['race']=='group E']['reading score']\n",
        "values2=[gar,gbr,gcr,gdr,ger]\n",
        "plt.boxplot(values2, vert=False,labels=['group A','group B','group C','group D','group E'])\n",
        "plt.show()"
      ],
      "execution_count": 194,
      "outputs": [
        {
          "output_type": "stream",
          "name": "stderr",
          "text": [
            "/usr/local/lib/python3.7/dist-packages/numpy/core/_asarray.py:83: VisibleDeprecationWarning: Creating an ndarray from ragged nested sequences (which is a list-or-tuple of lists-or-tuples-or ndarrays with different lengths or shapes) is deprecated. If you meant to do this, you must specify 'dtype=object' when creating the ndarray\n",
            "  return array(a, dtype, copy=False, order=order)\n"
          ]
        },
        {
          "output_type": "display_data",
          "data": {
            "image/png": "[encoded data removed]",
            "text/plain": [
              "<Figure size 842.4x595.44 with 1 Axes>"
            ]
          },
          "metadata": {}
        },
        {
          "output_type": "stream",
          "name": "stderr",
          "text": [
            "/usr/local/lib/python3.7/dist-packages/numpy/core/_asarray.py:83: VisibleDeprecationWarning: Creating an ndarray from ragged nested sequences (which is a list-or-tuple of lists-or-tuples-or ndarrays with different lengths or shapes) is deprecated. If you meant to do this, you must specify 'dtype=object' when creating the ndarray\n",
            "  return array(a, dtype, copy=False, order=order)\n"
          ]
        },
        {
          "output_type": "display_data",
          "data": {
            "image/png": "[encoded data removed]",
            "text/plain": [
              "<Figure size 842.4x595.44 with 1 Axes>"
            ]
          },
          "metadata": {}
        },
        {
          "output_type": "stream",
          "name": "stderr",
          "text": [
            "/usr/local/lib/python3.7/dist-packages/numpy/core/_asarray.py:83: VisibleDeprecationWarning: Creating an ndarray from ragged nested sequences (which is a list-or-tuple of lists-or-tuples-or ndarrays with different lengths or shapes) is deprecated. If you meant to do this, you must specify 'dtype=object' when creating the ndarray\n",
            "  return array(a, dtype, copy=False, order=order)\n"
          ]
        },
        {
          "output_type": "display_data",
          "data": {
            "image/png": "[encoded data removed]",
            "text/plain": [
              "<Figure size 842.4x595.44 with 1 Axes>"
            ]
          },
          "metadata": {}
        }
      ]
    },
    {
      "cell_type": "markdown",
      "metadata": {
        "id": "YS0-ih5mdiR4"
      },
      "source": [
        "reading score has the maximum number of outliers"
      ]
    }
  ]
}